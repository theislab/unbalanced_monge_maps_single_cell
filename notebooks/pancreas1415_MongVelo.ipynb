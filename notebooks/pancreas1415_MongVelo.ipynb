{
 "cells": [
  {
   "cell_type": "code",
   "execution_count": 15,
   "id": "eab91213",
   "metadata": {},
   "outputs": [],
   "source": [
    "import cellrank as cr\n",
    "import scanpy as sc\n",
    "import scvelo as scv\n",
    "from cellrank.kernels import VelocityKernel\n",
    "from cellrank.estimators import GPCCA"
   ]
  },
  {
   "cell_type": "code",
   "execution_count": 17,
   "id": "328bcc36",
   "metadata": {},
   "outputs": [
    {
     "data": {
      "text/plain": [
       "AnnData object with n_obs × n_vars = 20519 × 50\n",
       "    obs: 'day', 'n_counts', 'log_counts', 'n_genes', 'mt_frac', 'proliferation', 'G2M_score', 'S_score', 'clusters_fig3_final', 'clusters_fig3_final_noep', 'clusters_fig4_final', 'clusters_fig2_final', 'clusters_fig6_broad_final', 'clusters_fig6_fine_final', 'clusters_fig6_alpha_final', 'celltype', 'prolif', 'apoptosis', 'growth_rate', 'scaled_growth_rate', 'scaled3_growth_rate', 'scaled4_growth_rate'\n",
       "    uns: 'neighbors'\n",
       "    obsm: 'X_pca'\n",
       "    layers: 'GEX_velocity', 'X_pca', 'velocity'\n",
       "    obsp: 'distances', 'connectivities'"
      ]
     },
     "execution_count": 17,
     "metadata": {},
     "output_type": "execute_result"
    }
   ],
   "source": [
    "adata = sc.read(\"/lustre/groups/ml01/workspace/monge_velo/data/benchmarks/pancreas/adata_gex_velocities.h5ad\")\n",
    "adata.obsm[\"X_pca\"] = adata.layers[\"X_pca\"].copy()\n",
    "adata.layers[\"velocity\"] = adata.layers[\"GEX_velocity\"].copy()\n",
    "sc.pp.neighbors(adata, use_rep=\"X_pca\")\n",
    "adata"
   ]
  },
  {
   "cell_type": "code",
   "execution_count": 18,
   "id": "8da9307c",
   "metadata": {},
   "outputs": [
    {
     "name": "stderr",
     "output_type": "stream",
     "text": [
      "100%|█████████████████████████████████████████████████████████████████████████████████████████████████████████████| 20519/20519 [00:03<00:00, 6541.62cell/s]\n",
      "100%|█████████████████████████████████████████████████████████████████████████████████████████████████████████████| 20519/20519 [00:03<00:00, 5723.43cell/s]\n"
     ]
    }
   ],
   "source": [
    "vk = VelocityKernel(adata, xkey=\"X_pca\", vkey=\"GEX_velocity\").compute_transition_matrix()"
   ]
  },
  {
   "cell_type": "code",
   "execution_count": 22,
   "id": "4b7a51e9",
   "metadata": {},
   "outputs": [
    {
     "ename": "AttributeError",
     "evalue": "'NoneType' object has no attribute 'show'",
     "output_type": "error",
     "traceback": [
      "\u001b[0;31m---------------------------------------------------------------------------\u001b[0m",
      "\u001b[0;31mAttributeError\u001b[0m                            Traceback (most recent call last)",
      "Cell \u001b[0;32mIn[22], line 1\u001b[0m\n\u001b[0;32m----> 1\u001b[0m \u001b[43mvk\u001b[49m\u001b[38;5;241;43m.\u001b[39;49m\u001b[43madata\u001b[49m\u001b[38;5;241;43m.\u001b[39;49m\u001b[43mX\u001b[49m\u001b[38;5;241;43m.\u001b[39;49m\u001b[43mshow\u001b[49m()\n",
      "\u001b[0;31mAttributeError\u001b[0m: 'NoneType' object has no attribute 'show'"
     ]
    }
   ],
   "source": [
    "vk.adata"
   ]
  },
  {
   "cell_type": "code",
   "execution_count": 19,
   "id": "11f5fe52",
   "metadata": {},
   "outputs": [
    {
     "ename": "AttributeError",
     "evalue": "'NoneType' object has no attribute 'dtype'",
     "output_type": "error",
     "traceback": [
      "\u001b[0;31m---------------------------------------------------------------------------\u001b[0m",
      "\u001b[0;31mAttributeError\u001b[0m                            Traceback (most recent call last)",
      "Cell \u001b[0;32mIn[19], line 1\u001b[0m\n\u001b[0;32m----> 1\u001b[0m g \u001b[38;5;241m=\u001b[39m \u001b[43mGPCCA\u001b[49m\u001b[43m(\u001b[49m\u001b[43mvk\u001b[49m\u001b[43m)\u001b[49m\n",
      "File \u001b[0;32m~/miniconda3/envs/neuralBenchmark_moscot/lib/python3.9/site-packages/cellrank/estimators/terminal_states/_gpcca.py:88\u001b[0m, in \u001b[0;36mGPCCA.__init__\u001b[0;34m(self, object, **kwargs)\u001b[0m\n\u001b[1;32m     83\u001b[0m \u001b[38;5;28;01mdef\u001b[39;00m \u001b[38;5;21m__init__\u001b[39m(\n\u001b[1;32m     84\u001b[0m     \u001b[38;5;28mself\u001b[39m,\n\u001b[1;32m     85\u001b[0m     \u001b[38;5;28mobject\u001b[39m: Union[\u001b[38;5;28mstr\u001b[39m, \u001b[38;5;28mbool\u001b[39m, np\u001b[38;5;241m.\u001b[39mndarray, spmatrix, AnnData, KernelExpression],\n\u001b[1;32m     86\u001b[0m     \u001b[38;5;241m*\u001b[39m\u001b[38;5;241m*\u001b[39mkwargs: Any,\n\u001b[1;32m     87\u001b[0m ):\n\u001b[0;32m---> 88\u001b[0m     \u001b[38;5;28;43msuper\u001b[39;49m\u001b[43m(\u001b[49m\u001b[43m)\u001b[49m\u001b[38;5;241;43m.\u001b[39;49m\u001b[38;5;21;43m__init__\u001b[39;49m\u001b[43m(\u001b[49m\u001b[38;5;28;43mobject\u001b[39;49m\u001b[38;5;241;43m=\u001b[39;49m\u001b[38;5;28;43mobject\u001b[39;49m\u001b[43m,\u001b[49m\u001b[43m \u001b[49m\u001b[38;5;241;43m*\u001b[39;49m\u001b[38;5;241;43m*\u001b[39;49m\u001b[43mkwargs\u001b[49m\u001b[43m)\u001b[49m\n\u001b[1;32m     90\u001b[0m     \u001b[38;5;28mself\u001b[39m\u001b[38;5;241m.\u001b[39m_coarse_init_dist: Optional[pd\u001b[38;5;241m.\u001b[39mSeries] \u001b[38;5;241m=\u001b[39m \u001b[38;5;28;01mNone\u001b[39;00m\n\u001b[1;32m     91\u001b[0m     \u001b[38;5;28mself\u001b[39m\u001b[38;5;241m.\u001b[39m_coarse_stat_dist: Optional[pd\u001b[38;5;241m.\u001b[39mSeries] \u001b[38;5;241m=\u001b[39m \u001b[38;5;28;01mNone\u001b[39;00m\n",
      "File \u001b[0;32m~/miniconda3/envs/neuralBenchmark_moscot/lib/python3.9/site-packages/cellrank/estimators/terminal_states/_term_states_estimator.py:52\u001b[0m, in \u001b[0;36mTermStatesEstimator.__init__\u001b[0;34m(self, object, **kwargs)\u001b[0m\n\u001b[1;32m     47\u001b[0m \u001b[38;5;28;01mdef\u001b[39;00m \u001b[38;5;21m__init__\u001b[39m(\n\u001b[1;32m     48\u001b[0m     \u001b[38;5;28mself\u001b[39m,\n\u001b[1;32m     49\u001b[0m     \u001b[38;5;28mobject\u001b[39m: Union[AnnData, np\u001b[38;5;241m.\u001b[39mndarray, spmatrix, KernelExpression],\n\u001b[1;32m     50\u001b[0m     \u001b[38;5;241m*\u001b[39m\u001b[38;5;241m*\u001b[39mkwargs: Any,\n\u001b[1;32m     51\u001b[0m ):\n\u001b[0;32m---> 52\u001b[0m     \u001b[38;5;28;43msuper\u001b[39;49m\u001b[43m(\u001b[49m\u001b[43m)\u001b[49m\u001b[38;5;241;43m.\u001b[39;49m\u001b[38;5;21;43m__init__\u001b[39;49m\u001b[43m(\u001b[49m\u001b[38;5;28;43mobject\u001b[39;49m\u001b[38;5;241;43m=\u001b[39;49m\u001b[38;5;28;43mobject\u001b[39;49m\u001b[43m,\u001b[49m\u001b[43m \u001b[49m\u001b[38;5;241;43m*\u001b[39;49m\u001b[38;5;241;43m*\u001b[39;49m\u001b[43mkwargs\u001b[49m\u001b[43m)\u001b[49m\n\u001b[1;32m     54\u001b[0m     \u001b[38;5;28mself\u001b[39m\u001b[38;5;241m.\u001b[39m_term_states: Optional[pd\u001b[38;5;241m.\u001b[39mSeries] \u001b[38;5;241m=\u001b[39m \u001b[38;5;28;01mNone\u001b[39;00m\n\u001b[1;32m     55\u001b[0m     \u001b[38;5;28mself\u001b[39m\u001b[38;5;241m.\u001b[39m_term_states_probs: Optional[pd\u001b[38;5;241m.\u001b[39mSeries] \u001b[38;5;241m=\u001b[39m \u001b[38;5;28;01mNone\u001b[39;00m\n",
      "File \u001b[0;32m~/miniconda3/envs/neuralBenchmark_moscot/lib/python3.9/site-packages/cellrank/estimators/_base_estimator.py:77\u001b[0m, in \u001b[0;36mBaseEstimator.__init__\u001b[0;34m(self, object, **kwargs)\u001b[0m\n\u001b[1;32m     73\u001b[0m \u001b[38;5;28msuper\u001b[39m()\u001b[38;5;241m.\u001b[39m\u001b[38;5;21m__init__\u001b[39m(kernel\u001b[38;5;241m=\u001b[39m\u001b[38;5;28mobject\u001b[39m)\n\u001b[1;32m     75\u001b[0m \u001b[38;5;28mself\u001b[39m\u001b[38;5;241m.\u001b[39m_params: Dict[\u001b[38;5;28mstr\u001b[39m, Any] \u001b[38;5;241m=\u001b[39m {}\n\u001b[1;32m     76\u001b[0m \u001b[38;5;28mself\u001b[39m\u001b[38;5;241m.\u001b[39m_shadow_adata \u001b[38;5;241m=\u001b[39m AnnData(\n\u001b[0;32m---> 77\u001b[0m     X\u001b[38;5;241m=\u001b[39mcsr_matrix(\u001b[38;5;28mself\u001b[39m\u001b[38;5;241m.\u001b[39madata\u001b[38;5;241m.\u001b[39mshape, dtype\u001b[38;5;241m=\u001b[39m\u001b[38;5;28;43mself\u001b[39;49m\u001b[38;5;241;43m.\u001b[39;49m\u001b[43madata\u001b[49m\u001b[38;5;241;43m.\u001b[39;49m\u001b[43mX\u001b[49m\u001b[38;5;241;43m.\u001b[39;49m\u001b[43mdtype\u001b[49m),\n\u001b[1;32m     78\u001b[0m     obs\u001b[38;5;241m=\u001b[39m\u001b[38;5;28mself\u001b[39m\u001b[38;5;241m.\u001b[39madata\u001b[38;5;241m.\u001b[39mobs[[]]\u001b[38;5;241m.\u001b[39mcopy(),\n\u001b[1;32m     79\u001b[0m     var\u001b[38;5;241m=\u001b[39m\u001b[38;5;28mself\u001b[39m\u001b[38;5;241m.\u001b[39madata\u001b[38;5;241m.\u001b[39mvar[[]]\u001b[38;5;241m.\u001b[39mcopy(),\n\u001b[1;32m     80\u001b[0m     raw\u001b[38;5;241m=\u001b[39m\u001b[38;5;28;01mNone\u001b[39;00m \u001b[38;5;28;01mif\u001b[39;00m \u001b[38;5;28mself\u001b[39m\u001b[38;5;241m.\u001b[39madata\u001b[38;5;241m.\u001b[39mraw \u001b[38;5;129;01mis\u001b[39;00m \u001b[38;5;28;01mNone\u001b[39;00m \u001b[38;5;28;01melse\u001b[39;00m \u001b[38;5;28mself\u001b[39m\u001b[38;5;241m.\u001b[39madata\u001b[38;5;241m.\u001b[39mraw\u001b[38;5;241m.\u001b[39mto_adata(),\n\u001b[1;32m     81\u001b[0m )\n",
      "\u001b[0;31mAttributeError\u001b[0m: 'NoneType' object has no attribute 'dtype'"
     ]
    }
   ],
   "source": [
    "g = GPCCA(vk)"
   ]
  },
  {
   "cell_type": "code",
   "execution_count": null,
   "id": "5479e648",
   "metadata": {},
   "outputs": [],
   "source": [
    "g.compute_schur(n_components=20)\n",
    "g.plot_spectrum(real_only=True)"
   ]
  },
  {
   "cell_type": "code",
   "execution_count": null,
   "id": "60088313",
   "metadata": {},
   "outputs": [],
   "source": [
    "results = {}"
   ]
  },
  {
   "cell_type": "code",
   "execution_count": null,
   "id": "000ced62",
   "metadata": {},
   "outputs": [],
   "source": [
    "g.compute_macrostates(n_states=14, cluster_key=\"celltype\")\n",
    "scv.set_figure_params('scvelo', transparent=True, fontsize=20, color_map='viridis')\n",
    "g.plot_macrostates(discrete=True, basis=\"umap\", legend_loc=\"right\", legend_fontweight='normal', legend_fontsize='12', dpi=250)"
   ]
  },
  {
   "cell_type": "code",
   "execution_count": null,
   "id": "218307e8",
   "metadata": {},
   "outputs": [],
   "source": [
    "results['consistency'] = "
   ]
  },
  {
   "cell_type": "code",
   "execution_count": null,
   "id": "c2349e50",
   "metadata": {},
   "outputs": [],
   "source": [
    "g.set_terminal_states_from_macrostates(\n",
    "    [\n",
    "        \"Acinar_1\", \"Acinar_2\", \"Ductal_1\", \"Ductal_2\", \"Alpha\", \"Beta\", \"Delta\", \"Epsilon\",  #celltypes pancreas, CHANGE!\n",
    "    ]\n",
    ")\n",
    "g.compute_absorption_probabilities(solver=\"gmres\", use_petsc=True, tol=1e-12, preconditioner='ilu', time_to_absorption='all')\n",
    "g.plot_absorption_probabilities(same_plot=False, basis=\"umap\", perc=[0, 99], ncols=2)"
   ]
  },
  {
   "cell_type": "code",
   "execution_count": null,
   "id": "36958738",
   "metadata": {},
   "outputs": [],
   "source": [
    "cr.pl.aggregate_absorption_probabilities(\n",
    "    adata,\n",
    "    mode='heatmap',\n",
    "    lineages=[\"Acinar_1\", \"Acinar_2\", \"Ductal_1\", \"Ductal_2\", \"Alpha\", \"Beta\", \"Delta\", \"Epsilon\"],\n",
    "    cluster_key='celltype',\n",
    "    clusters=['Acinar', 'Multipotent', 'Tip', 'Ductal', 'Ngn3 High early', 'Ngn3 High late', 'Fev+ Alpha', 'Alpha', 'Fev+ Beta', 'Beta', 'Fev+ Delta', 'Delta', 'Fev+ Epsilon', 'Epsilon'],\n",
    "    figsize=(17, 7),\n",
    "    title=\"\",\n",
    "    #save=\"transprobs_wot.png\"\n",
    ")"
   ]
  }
 ],
 "metadata": {
  "kernelspec": {
   "display_name": "Python [conda env:neuralBenchmark_moscot]",
   "language": "python",
   "name": "conda-env-neuralBenchmark_moscot-py"
  },
  "language_info": {
   "codemirror_mode": {
    "name": "ipython",
    "version": 3
   },
   "file_extension": ".py",
   "mimetype": "text/x-python",
   "name": "python",
   "nbconvert_exporter": "python",
   "pygments_lexer": "ipython3",
   "version": "3.9.15"
  }
 },
 "nbformat": 4,
 "nbformat_minor": 5
}
