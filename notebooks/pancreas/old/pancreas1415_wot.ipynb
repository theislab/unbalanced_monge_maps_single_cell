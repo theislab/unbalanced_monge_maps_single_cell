{
 "cells": [
  {
   "cell_type": "code",
   "execution_count": 1,
   "metadata": {},
   "outputs": [],
   "source": [
    "import os\n",
    "import sys\n",
    "from pathlib import Path\n",
    "\n",
    "import numpy as np\n",
    "import pandas as pd \n",
    "\n",
    "import matplotlib.pyplot as plt\n",
    "import seaborn as sns\n",
    "\n",
    "import wot\n",
    "import scanpy as sc\n",
    "import scvelo as scv\n",
    "import cellrank as cr\n",
    "import anndata as ad\n",
    "from cellrank.external.kernels import WOTKernel\n",
    "from cellrank.estimators import GPCCA\n",
    "#from tueplots import bundles\n",
    "#from tueplots import axes\n"
   ]
  },
  {
   "cell_type": "code",
   "execution_count": 2,
   "metadata": {
    "scrolled": true
   },
   "outputs": [
    {
     "name": "stdout",
     "output_type": "stream",
     "text": [
      "cellrank==1.5.1+g525b847 scanpy==1.9.1 anndata==0.8.0 numpy==1.23.5 numba==0.56.4 scipy==1.10.0 pandas==1.5.2 pygpcca==1.0.4 scikit-learn==1.2.0 statsmodels==0.13.5 scvelo==0.2.5 pygam==0.8.0 matplotlib==3.6.2 seaborn==0.12.2\n"
     ]
    }
   ],
   "source": [
    "cr.logging.print_versions()"
   ]
  },
  {
   "cell_type": "code",
   "execution_count": 3,
   "metadata": {},
   "outputs": [],
   "source": [
    "adata14 = sc.read(\"/lustre/groups/ml01/workspace/monge_velo/data/benchmarks/pancreas/day_14.5_growth_rate.h5ad\")\n",
    "adata15 = sc.read(\"/lustre/groups/ml01/workspace/monge_velo/data/benchmarks/pancreas/day_15.5_growth_rate.h5ad\")\n",
    "adata = ad.concat([adata14, adata15], merge = 'same')\n",
    "\n",
    "adata.obs = adata.obs.loc[:, ['day', 'celltype']]\n",
    "adata.var = adata.var.loc[:, ['highly_variable']]\n",
    "adata.obs['celltype'] = pd.Series(adata.obs['celltype'], dtype='category')"
   ]
  },
  {
   "cell_type": "code",
   "execution_count": 4,
   "metadata": {
    "scrolled": true
   },
   "outputs": [
    {
     "data": {
      "text/plain": [
       "AnnData object with n_obs × n_vars = 20519 × 16206\n",
       "    obs: 'day', 'celltype'\n",
       "    var: 'highly_variable'\n",
       "    obsm: 'X_pca', 'X_umap'\n",
       "    varm: 'PCs'\n",
       "    layers: 'spliced', 'unspliced'"
      ]
     },
     "execution_count": 4,
     "metadata": {},
     "output_type": "execute_result"
    }
   ],
   "source": [
    "adata\n"
   ]
  },
  {
   "cell_type": "code",
   "execution_count": 5,
   "metadata": {},
   "outputs": [
    {
     "name": "stdout",
     "output_type": "stream",
     "text": [
      "WARNING: genes are not in var_names and ignored: ['Hn1', 'Mlf1ip', 'Fam64a']\n",
      "WARNING: genes are not in var_names and ignored: ['Serpinb5', 'Adck3', 'Il1a', 'Clca2', 'Ikbkap', 'H2afj', 'Gnb2l1', 'Hist3h2a', 'Hist1h1c']\n"
     ]
    },
    {
     "name": "stderr",
     "output_type": "stream",
     "text": [
      "100%|████████████████████████████████████████████████████████████████████████████████████| 1/1 [08:27<00:00, 507.97s/time pair]\n"
     ]
    },
    {
     "data": {
      "text/plain": [
       "WOTKernel[n=20519, cost_matrices=None, lambda1=1, lambda2=50, epsilon=0.05, growth_iters=3, solver='duality_gap', growth_rate_key='growth_rate_init', threshold='auto', self_transitions='connectivities']"
      ]
     },
     "execution_count": 5,
     "metadata": {},
     "output_type": "execute_result"
    }
   ],
   "source": [
    "wk = WOTKernel(adata, time_key=\"day\")\n",
    "wk.compute_initial_growth_rates(organism=\"mouse\", key_added=\"growth_rate_init\")\n",
    "wk.compute_transition_matrix(\n",
    "    growth_iters=3, growth_rate_key=\"growth_rate_init\"\n",
    ")"
   ]
  },
  {
   "cell_type": "code",
   "execution_count": 6,
   "metadata": {},
   "outputs": [],
   "source": [
    "g = GPCCA(wk)"
   ]
  },
  {
   "cell_type": "code",
   "execution_count": 7,
   "metadata": {},
   "outputs": [
    {
     "data": {
      "image/png": "[encoded data removed]",
      "text/plain": [
       "<Figure size 500x500 with 1 Axes>"
      ]
     },
     "metadata": {},
     "output_type": "display_data"
    }
   ],
   "source": [
    "g.compute_schur(n_components=20)\n",
    "g.plot_spectrum(real_only=True)"
   ]
  },
  {
   "cell_type": "code",
   "execution_count": 8,
   "metadata": {},
   "outputs": [],
   "source": [
    "results = {}"
   ]
  },
  {
   "cell_type": "code",
   "execution_count": null,
   "metadata": {},
   "outputs": [],
   "source": [
    "g.compute_macrostates(n_states=12, cluster_key=\"celltype\")\n",
    "scv.set_figure_params('scvelo', transparent=True, fontsize=20, color_map='viridis')\n",
    "g.plot_macrostates(discrete=True, basis=\"umap\", legend_loc=\"right\", legend_fontweight='normal', legend_fontsize='12', dpi=250)"
   ]
  },
  {
   "cell_type": "code",
   "execution_count": null,
   "metadata": {},
   "outputs": [],
   "source": [
    "g.compute_macrostates(n_states=13, cluster_key=\"celltype\")\n",
    "scv.set_figure_params('scvelo', transparent=True, fontsize=20, color_map='viridis')\n",
    "g.plot_macrostates(discrete=True, basis=\"umap\", legend_loc=\"right\", legend_fontweight='normal', legend_fontsize='12', dpi=250)"
   ]
  },
  {
   "cell_type": "code",
   "execution_count": null,
   "metadata": {},
   "outputs": [],
   "source": [
    "results['consistency'] = 2"
   ]
  },
  {
   "cell_type": "code",
   "execution_count": null,
   "metadata": {},
   "outputs": [],
   "source": [
    "g.set_terminal_states_from_macrostates(\n",
    "    [\n",
    "        \"Acinar_1\", \"Acinar_2\", \"Acinar_3\", \"Acinar_4\", \"Acinar_5\", \"Ductal_1\", \"Ductal_2\", \"Alpha\", \"Beta\", \"Delta\", \"Epsilon\"\n",
    "    ]\n",
    ")\n",
    "g.compute_absorption_probabilities(solver=\"gmres\", use_petsc=True, tol=1e-12, preconditioner='ilu', time_to_absorption='all')\n",
    "g.plot_absorption_probabilities(same_plot=False, basis=\"umap\", perc=[0, 99], ncols=2)"
   ]
  },
  {
   "cell_type": "code",
   "execution_count": null,
   "metadata": {},
   "outputs": [],
   "source": [
    "cr.pl.aggregate_absorption_probabilities(\n",
    "    adata,\n",
    "    mode='heatmap',\n",
    "    lineages=[\"Acinar_1\", \"Acinar_2\", \"Ductal_1\", \"Ductal_2\", \"Alpha\", \"Beta\", \"Delta\", \"Epsilon\"],\n",
    "    cluster_key='celltype',\n",
    "    clusters=['Acinar', 'Multipotent', 'Tip', 'Ductal', 'Ngn3 High early', 'Ngn3 High late', 'Fev+ Alpha', 'Alpha', 'Fev+ Beta', 'Beta', 'Fev+ Delta', 'Delta', 'Fev+ Epsilon', 'Epsilon'],\n",
    "    figsize=(17, 7),\n",
    "    title=\"\",\n",
    "    #save=\"transprobs_wot.png\"\n",
    ")"
   ]
  },
  {
   "cell_type": "code",
   "execution_count": null,
   "metadata": {},
   "outputs": [],
   "source": [
    "cluster = ['Acinar', 'Multipotent', 'Tip', 'Ductal', 'Ngn3 High early', 'Ngn3 High late', 'Fev+ Alpha', 'Alpha', 'Fev+ Beta', 'Beta', 'Fev+ Delta', 'Delta', 'Fev+ Epsilon', 'Epsilon']\n",
    "terminal_cluster = [\"Acinar_1\", \"Acinar_2\", \"Ductal_1\", \"Ductal_2\", \"Alpha\", \"Beta\", \"Delta\", \"Epsilon\"]\n",
    "\n",
    "aggregated_absorption_prob = np.empty((len(terminal_cluster), len(cluster)))\n",
    "data = g.absorption_probabilities.X\n",
    "sums = np.sum(data, axis=0)\n",
    "tmp = adata.obs['celltype']\n",
    "\n",
    "for i in range(len(cluster)):\n",
    "    aggregated_absorption_prob[:,i] = np.dot(np.array((tmp.array==cluster[i]).astype(int)),data)\n",
    "for i in range(len(cluster)):\n",
    "    aggregated_absorption_prob[:,i] = aggregated_absorption_prob[:,i]/np.sum(aggregated_absorption_prob[:,i])\n",
    "df = pd.DataFrame(aggregated_absorption_prob)\n",
    "df.index = terminal_cluster\n",
    "df.columns = cluster\n",
    "df"
   ]
  },
  {
   "cell_type": "code",
   "execution_count": null,
   "metadata": {},
   "outputs": [],
   "source": [
    "correct_transitions = [('Acinar_1', 'Acinar'), ('Acinar_2', 'Acinar'), ('Acinar_1', 'Tip'), ('Acinar_2', 'Tip'), ('Acinar_3', 'Tip'), \n",
    "                       ('Acinar_4', 'Tip'), ('Acinar_1', 'Multipotent'), ('Acinar_2', 'Multipotent'),\n",
    "                       ('Ductal_1', 'Ductal'), ('Ductal_2', 'Ductal'),\n",
    "                       ('Ductal_1', 'Multipotent'), ('Ductal_2', 'Multipotent'),\n",
    "                       ('Alpha', 'Alpha'), ('Alpha', 'Fev+ Beta'), ('Alpha', 'Fev+ Delta'),\n",
    "                       ('Alpha', 'Fev+ Alpha'), ('Alpha', 'Fev+ Epsilon'), ('Alpha', 'Ngn3 High early'),\n",
    "                       ('Alpha', 'Ngn3 High late'), ('Beta', 'Beta'), ('Beta', 'Fev+ Beta'), ('Beta', 'Fev+ Delta'),\n",
    "                       ('Beta', 'Fev+ Alpha'), ('Beta', 'Fev+ Epsilon'), ('Beta', 'Ngn3 High early'), \n",
    "                       ('Beta', 'Ngn3 High late'), ('Delta', 'Delta'), ('Delta', 'Fev+ Beta'), \n",
    "                       ('Delta', 'Fev+ Delta'), ('Delta', 'Fev+ Alpha'), ('Delta', 'Fev+ Epsilon'),\n",
    "                       ('Delta', 'Ngn3 High early'), ('Delta', 'Ngn3 High late'), ('Epsilon', 'Epsilon'), \n",
    "                       ('Epsilon', 'Fev+ Beta'), ('Epsilon', 'Fev+ Delta'), ('Epsilon', 'Fev+ Alpha'), \n",
    "                       ('Epsilon', 'Fev+ Epsilon'), ('Epsilon', 'Ngn3 High early'), ('Epsilon', 'Ngn3 High late'), \n",
    "                       ('Alpha', 'Multipotent'),('Epsilon', 'Multipotent'), ('Beta', 'Multipotent'), \n",
    "                       ('Delta', 'Multipotent')]\n",
    "\n",
    "sum_prob = 0\n",
    "for i in correct_transitions:\n",
    "    sum_prob = sum_prob + df.loc[i]\n",
    "mean_prob = sum_prob/len(cluster)\n",
    "mean_prob"
   ]
  }
 ],
 "metadata": {
  "kernelspec": {
   "display_name": "Python [conda env:neuralBenchmark_moscot]",
   "language": "python",
   "name": "conda-env-neuralBenchmark_moscot-py"
  },
  "language_info": {
   "codemirror_mode": {
    "name": "ipython",
    "version": 3
   },
   "file_extension": ".py",
   "mimetype": "text/x-python",
   "name": "python",
   "nbconvert_exporter": "python",
   "pygments_lexer": "ipython3",
   "version": "3.9.15"
  },
  "vscode": {
   "interpreter": {
    "hash": "b954348356b0444886df2a11446af73db17c752c7ef1573e32f91ac75232b3f0"
   }
  }
 },
 "nbformat": 4,
 "nbformat_minor": 2
}
