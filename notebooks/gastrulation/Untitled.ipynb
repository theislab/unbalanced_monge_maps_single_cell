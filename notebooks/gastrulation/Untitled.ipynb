{
 "cells": [
  {
   "cell_type": "markdown",
   "id": "fdaa8fbe",
   "metadata": {},
   "source": [
    "# Pancreas endocrinogenesis E1415 - scVelo"
   ]
  },
  {
   "cell_type": "markdown",
   "id": "3ad0978f",
   "metadata": {},
   "source": [
    "# Imports and settings"
   ]
  },
  {
   "cell_type": "code",
   "execution_count": null,
   "id": "8745e0ae",
   "metadata": {},
   "outputs": [],
   "source": [
    "import os\n",
    "import sys\n",
    "from pathlib import Path\n",
    "\n",
    "import numpy as np\n",
    "import pandas as pd \n",
    "\n",
    "import matplotlib.pyplot as plt\n",
    "import seaborn as sns\n",
    "\n",
    "import scanpy as sc\n",
    "import scvelo as scv\n",
    "import cellrank as cr\n",
    "import anndata as ad\n",
    "from cellrank.kernels import ConnectivityKernel, VelocityKernel\n",
    "from cellrank.estimators import GPCCA"
   ]
  },
  {
   "cell_type": "code",
   "execution_count": null,
   "id": "ebd501f4",
   "metadata": {},
   "outputs": [],
   "source": [
    "cr.logging.print_versions()"
   ]
  },
  {
   "cell_type": "markdown",
   "id": "417cda4c",
   "metadata": {},
   "source": [
    "# Data loading and preprocessing"
   ]
  },
  {
   "cell_type": "code",
   "execution_count": null,
   "id": "76b87b72",
   "metadata": {},
   "outputs": [],
   "source": [
    "org_adata = sc.read(\"/lustre/groups/ml01/workspace/monge_velo/data/benchmarks/gastrulation/adata_gastrulation.h5ad\")\n",
    "\n",
    "leave_out_stage = ['E6.5', 'E6.75', 'E7.0', 'E7.25', 'E7.5', 'E7.75', 'E8.0']\n",
    "leave_in_cell = ['Blood progenitors 2', 'Erythroid1', 'Erythroid2', 'Erythroid3']\n",
    "adata = org_adata[~org_adata.obs[\"stage\"].isin(leave_out_stage)].copy()\n",
    "adata = adata[adata.obs[\"celltype\"].isin(leave_in_cell)].copy()\n",
    "\n",
    "map_dict = {\"E6.5\": 6.5, \"E6.75\": 6.75, \"E7.0\": 7.0, \"E7.25\": 7.25, \"E7.5\": 7.5, \"E7.75\": 7.75, \"E8.0\": 8.0,\n",
    "            \"E8.25\": 8.25, \"E8.5\": 8.5}\n",
    "adata.obs[\"stage\"] = adata.obs[\"stage\"].copy().map(map_dict)\n",
    "\n",
    "adata.obs = adata.obs.loc[:, ['stage', 'celltype']]\n",
    "adata.var = adata.var[[]]\n",
    "\n",
    "sc.pp.log1p(adata)"
   ]
  },
  {
   "cell_type": "code",
   "execution_count": null,
   "id": "0b8a7b35",
   "metadata": {},
   "outputs": [],
   "source": [
    "adata_825 = adata[adata.obs['stage'] == 8.25, :].copy()\n",
    "adata_85 = adata[adata.obs['stage'] == 8.5, :].copy()"
   ]
  },
  {
   "cell_type": "code",
   "execution_count": null,
   "id": "5532306d",
   "metadata": {},
   "outputs": [],
   "source": [
    "sc.pp.pca(adata_825, n_comps=50)\n",
    "scv.pp.moments(adata_825)\n",
    "scv.tl.recover_dynamics(adata_825, n_jobs=80)\n",
    "scv.tl.velocity(adata_825, mode = 'dynamical')"
   ]
  },
  {
   "cell_type": "code",
   "execution_count": null,
   "id": "401e89c2",
   "metadata": {},
   "outputs": [],
   "source": [
    "sc.pp.pca(adata_85, n_comps=50)\n",
    "scv.pp.moments(adata_85)\n",
    "scv.tl.recover_dynamics(adata_85, n_jobs=80)\n",
    "scv.tl.velocity(adata_85, mode = 'dynamical')"
   ]
  },
  {
   "cell_type": "code",
   "execution_count": null,
   "id": "87147a26",
   "metadata": {},
   "outputs": [],
   "source": [
    "adata = ad.concat([adata_825, adata_85])\n",
    "sc.pp.neighbors(adata)\n",
    "scv.tl.umap(adata)\n",
    "adata"
   ]
  },
  {
   "cell_type": "markdown",
   "id": "3693145c",
   "metadata": {},
   "source": [
    "# Precomputed data"
   ]
  },
  {
   "cell_type": "code",
   "execution_count": null,
   "id": "de8a4ff5",
   "metadata": {},
   "outputs": [],
   "source": [
    "adata = sc.read(\"/home/icb/jonas.flor/precomputed_data/scvelo_branch_gast_pre.h5ad\")\n",
    "adata"
   ]
  },
  {
   "cell_type": "markdown",
   "id": "bc60e824",
   "metadata": {},
   "source": [
    "# Transition probabilities"
   ]
  },
  {
   "cell_type": "code",
   "execution_count": null,
   "id": "e403f83f",
   "metadata": {},
   "outputs": [],
   "source": [
    "vk = VelocityKernel(adata).compute_transition_matrix()"
   ]
  },
  {
   "cell_type": "markdown",
   "id": "093870d8",
   "metadata": {},
   "source": [
    "# Macrostate calculation"
   ]
  },
  {
   "cell_type": "code",
   "execution_count": null,
   "id": "402937f8",
   "metadata": {},
   "outputs": [],
   "source": [
    "g = GPCCA(vk)\n",
    "g.compute_schur(n_components=20)\n",
    "g.plot_spectrum(real_only=True)"
   ]
  },
  {
   "cell_type": "code",
   "execution_count": null,
   "id": "510c326b",
   "metadata": {},
   "outputs": [],
   "source": [
    "g.compute_macrostates(n_states=3, cluster_key=\"celltype\")\n",
    "scv.set_figure_params('scvel o', transparent=True, fontsize=20, color_map='viridis')\n",
    "g.plot_macrostates(discrete=True, basis=\"umap\", legend_loc=\"right\", legend_fontweight='normal', legend_fontsize='12', dpi=250)"
   ]
  },
  {
   "cell_type": "code",
   "execution_count": null,
   "id": "3309d431",
   "metadata": {},
   "outputs": [],
   "source": [
    "g.compute_macrostates(n_states=4, cluster_key=\"celltype\")\n",
    "scv.set_figure_params('scvel o', transparent=True, fontsize=20, color_map='viridis')\n",
    "g.plot_macrostates(discrete=True, basis=\"umap\", legend_loc=\"right\", legend_fontweight='normal', legend_fontsize='12', dpi=250)"
   ]
  },
  {
   "cell_type": "markdown",
   "id": "ecbb439e",
   "metadata": {},
   "source": [
    "# Fate probabilities"
   ]
  },
  {
   "cell_type": "code",
   "execution_count": null,
   "id": "d57e6c00",
   "metadata": {},
   "outputs": [],
   "source": [
    "g.set_terminal_states_from_macrostates(\n",
    "    [\n",
    "        'Erythroid' \n",
    "    ]\n",
    ")\n",
    "g.compute_absorption_probabilities(solver=\"gmres\", use_petsc=True, tol=1e-12, preconditioner='ilu', time_to_absorption='all')\n",
    "g.plot_absorption_probabilities(same_plot=False, basis=\"umap\", perc=[0, 99], ncols=2)"
   ]
  },
  {
   "cell_type": "code",
   "execution_count": null,
   "id": "8876f407",
   "metadata": {},
   "outputs": [],
   "source": [
    "scv.set_figure_params('scvelo', transparent=True, fontsize=20, color_map='viridis')\n",
    "cr.pl.aggregate_absorption_probabilities(\n",
    "    adata,\n",
    "    mode='heatmap',\n",
    "    lineages=['Erythroid3'],\n",
    "    cluster_key='celltype',\n",
    "    clusters=['Blood progenitors 2', 'Erythroid1', 'Erythroid2', 'Erythroid3'],\n",
    "    figsize=(17, 6),\n",
    "    title=\"\",\n",
    "    #save=\"transprobs_pancreas1415_scvelo.png\"\n",
    ")"
   ]
  },
  {
   "cell_type": "code",
   "execution_count": null,
   "id": "3b657f54",
   "metadata": {},
   "outputs": [],
   "source": [
    "cluster = ['Blood progenitors 2', 'Erythroid1', 'Erythroid2', 'Erythroid3']\n",
    "terminal_cluster = ['Erythroid3']\n",
    "\n",
    "aggregated_absorption_prob = np.empty((len(terminal_cluster), len(cluster)))\n",
    "data = g.absorption_probabilities.X\n",
    "sums = np.sum(data, axis=0)\n",
    "tmp = adata.obs['celltype']\n",
    "\n",
    "for i in range(len(cluster)):\n",
    "    aggregated_absorption_prob[:,i] = np.dot(np.array((tmp.array==cluster[i]).astype(int)),data)\n",
    "for i in range(len(cluster)):\n",
    "    aggregated_absorption_prob[:,i] = aggregated_absorption_prob[:,i]/np.sum(aggregated_absorption_prob[:,i])\n",
    "df = pd.DataFrame(aggregated_absorption_prob)\n",
    "df.index = terminal_cluster\n",
    "df.columns = cluster"
   ]
  },
  {
   "cell_type": "code",
   "execution_count": null,
   "id": "286bfbb5",
   "metadata": {},
   "outputs": [],
   "source": [
    "correct_transitions = [('Erythroid3', 'Blood progenitors 2'), ('Erythroid3', 'Erythroid2 1'),\n",
    "                       ('Erythroid3', 'Erythroid2 2'), ('Erythroid3', 'Erythroid3')]\n",
    "\n",
    "sum_prob = 0\n",
    "for i in correct_transitions:\n",
    "    sum_prob = sum_prob + df.loc[i]\n",
    "mean_prob = sum_prob/len(cluster)\n",
    "mean_prob"
   ]
  },
  {
   "cell_type": "markdown",
   "id": "18f1c25e",
   "metadata": {},
   "source": [
    "# Velocity stream plot"
   ]
  },
  {
   "cell_type": "code",
   "execution_count": null,
   "id": "b667f498",
   "metadata": {},
   "outputs": [],
   "source": [
    "adata.uns[\"velocity_graph\"] = vk.transition_matrix\n",
    "\n",
    "scv.set_figure_params('scvelo', transparent=True, fontsize=10, dpi_save=400,color_map='viridis')\n",
    "fig = plt.figure()\n",
    "ax = scv.pl.velocity_embedding_stream(adata, basis=\"umap\", smooth=0.5, title=\"\")#, legend_loc=\"none\", show=False)\n",
    "#legend =ax.legend(bbox_to_anchor=[1.25, 1.5], loc='upper center', ncol=6,frameon=True, prop={'size': 18})"
   ]
  },
  {
   "cell_type": "code",
   "execution_count": null,
   "id": "2f719427",
   "metadata": {},
   "outputs": [],
   "source": [
    "scv.tl.velocity_confidence(adata)"
   ]
  },
  {
   "cell_type": "code",
   "execution_count": null,
   "id": "24266c6f",
   "metadata": {},
   "outputs": [],
   "source": [
    "scv.set_figure_params('scvelo', fontsize=20)\n",
    "scv.settings.presenter_view = False\n",
    "scv.pl.scatter(adata, color='velocity_confidence',\n",
    "               perc=[2, 98],\n",
    "               cmap='gnuplot',\n",
    "               vmid=0.75,\n",
    "               rescale_color=[0.5, 1.0],\n",
    "               size=15,\n",
    "               title=\"\",\n",
    "               #save=\"velconf_pancreas1415_scvelo.png\"\n",
    "              )"
   ]
  }
 ],
 "metadata": {
  "kernelspec": {
   "display_name": "Python [conda env:neuralBenchmark_moscot]",
   "language": "python",
   "name": "conda-env-neuralBenchmark_moscot-py"
  },
  "language_info": {
   "codemirror_mode": {
    "name": "ipython",
    "version": 3
   },
   "file_extension": ".py",
   "mimetype": "text/x-python",
   "name": "python",
   "nbconvert_exporter": "python",
   "pygments_lexer": "ipython3",
   "version": "3.9.15"
  }
 },
 "nbformat": 4,
 "nbformat_minor": 5
}
