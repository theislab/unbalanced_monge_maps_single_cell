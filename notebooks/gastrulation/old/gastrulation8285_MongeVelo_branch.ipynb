{
 "cells": [
  {
   "cell_type": "code",
   "execution_count": 1,
   "id": "5c51e781",
   "metadata": {},
   "outputs": [],
   "source": [
    "import cellrank as cr\n",
    "import scanpy as sc\n",
    "import scvelo as scv\n",
    "from cellrank.kernels import VelocityKernel\n",
    "from cellrank.estimators import GPCCA\n",
    "import numpy as np\n",
    "import matplotlib.pyplot as plt"
   ]
  },
  {
   "cell_type": "code",
   "execution_count": null,
   "id": "535994b9",
   "metadata": {},
   "outputs": [],
   "source": [
    "adata = sc.read(\"/lustre/groups/ml01/workspace/monge_velo/data/benchmarks/gastrulation/adata_gex_velocities_branch.h5ad\")\n",
    "adata.obsm[\"X_pca\"] = adata.layers[\"X_pca\"].copy()\n",
    "adata.layers[\"velocity\"] = adata.layers[\"GEX_velocity\"].copy()\n",
    "sc.pp.neighbors(adata, use_rep=\"X_pca\")\n",
    "scv.tl.umap(adata)"
   ]
  },
  {
   "cell_type": "code",
   "execution_count": null,
   "id": "3df93952",
   "metadata": {},
   "outputs": [],
   "source": [
    "vk = VelocityKernel(adata, xkey=\"X_pca\", vkey=\"GEX_velocity\").compute_transition_matrix()"
   ]
  },
  {
   "cell_type": "code",
   "execution_count": null,
   "id": "6a26aa01",
   "metadata": {},
   "outputs": [],
   "source": [
    "g = GPCCA(vk)"
   ]
  },
  {
   "cell_type": "code",
   "execution_count": null,
   "id": "662eca2c",
   "metadata": {},
   "outputs": [],
   "source": [
    "g.compute_schur(n_components=20)\n",
    "g.plot_spectrum(real_only=True)"
   ]
  },
  {
   "cell_type": "code",
   "execution_count": null,
   "id": "141cdc6a",
   "metadata": {},
   "outputs": [],
   "source": [
    "results = {}"
   ]
  },
  {
   "cell_type": "code",
   "execution_count": null,
   "id": "034cf331",
   "metadata": {},
   "outputs": [],
   "source": [
    "g.compute_macrostates(n_states=10, cluster_key=\"celltype\")\n",
    "scv.set_figure_params('scvelo', transparent=True, fontsize=20, color_map='viridis')\n",
    "g.plot_macrostates(discrete=True, basis=\"umap\", legend_loc=\"right\", legend_fontweight='normal', legend_fontsize='12', dpi=250)"
   ]
  },
  {
   "cell_type": "code",
   "execution_count": null,
   "id": "e0e1b5b0",
   "metadata": {},
   "outputs": [],
   "source": [
    "g.compute_macrostates(n_states=11, cluster_key=\"celltype\")\n",
    "scv.set_figure_params('scvelo', transparent=True, fontsize=20, color_map='viridis')\n",
    "g.plot_macrostates(discrete=True, basis=\"umap\", legend_loc=\"right\", legend_fontweight='normal', legend_fontsize='12', dpi=250)"
   ]
  },
  {
   "cell_type": "code",
   "execution_count": null,
   "id": "725a7c28",
   "metadata": {},
   "outputs": [],
   "source": [
    "results['consistency'] = 4"
   ]
  },
  {
   "cell_type": "code",
   "execution_count": null,
   "id": "fca183ed",
   "metadata": {},
   "outputs": [],
   "source": [
    "g.set_terminal_states_from_macrostates(\n",
    "    [\n",
    "        \"Acinar_1\", \"Acinar_2\", \"Ductal\", \"Alpha\", \"Beta\", \"Delta\", \"Epsilon\"\n",
    "    ]\n",
    ")\n",
    "g.compute_absorption_probabilities(solver=\"gmres\", use_petsc=True, tol=1e-12, preconditioner='ilu')\n",
    "g.plot_absorption_probabilities(same_plot=False, basis=\"umap\", perc=[0, 99], ncols=2)"
   ]
  },
  {
   "cell_type": "code",
   "execution_count": null,
   "id": "6692b617",
   "metadata": {},
   "outputs": [],
   "source": [
    "cr.pl.aggregate_absorption_probabilities(\n",
    "    adata,\n",
    "    mode='heatmap',\n",
    "    lineages=[\"Acinar_1\", \"Acinar_2\", \"Ductal\", \"Alpha\", \"Beta\", \"Delta\", \"Epsilon\"],\n",
    "    cluster_key='celltype',\n",
    "    clusters=['Acinar', 'Multipotent', 'Tip', 'Ductal', 'Ngn3 High early', 'Ngn3 High late', 'Fev+ Alpha', 'Alpha', 'Fev+ Beta', 'Beta', 'Fev+ Delta', 'Delta', 'Fev+ Epsilon', 'Epsilon'],\n",
    "    figsize=(17, 7),\n",
    "    title=\"\",\n",
    "    #save=\"transprobs_wot.png\"\n",
    ")"
   ]
  },
  {
   "cell_type": "code",
   "execution_count": null,
   "id": "f0981121",
   "metadata": {},
   "outputs": [],
   "source": [
    "adata.uns[\"velocity_graph\"] = vk.transition_matrix\n",
    "\n",
    "scv.set_figure_params('scvelo', transparent=True, fontsize=10, dpi_save=400,color_map='viridis')\n",
    "fig = plt.figure()\n",
    "ax = scv.pl.velocity_embedding_stream(adata, basis=\"umap\", smooth=0.5, title=\"\", legend_loc=\"none\", show=False)\n",
    "legend =ax.legend(bbox_to_anchor=[1.25, 1.5], loc='upper center', ncol=6,frameon=True, prop={'size': 18})\n",
    "#plt.savefig(\"velstream_pancreas1415_scvelo\", dpi=800, bbox_inches='tight')"
   ]
  }
 ],
 "metadata": {
  "kernelspec": {
   "display_name": "Python [conda env:neuralBenchmark_moscot]",
   "language": "python",
   "name": "conda-env-neuralBenchmark_moscot-py"
  },
  "language_info": {
   "codemirror_mode": {
    "name": "ipython",
    "version": 3
   },
   "file_extension": ".py",
   "mimetype": "text/x-python",
   "name": "python",
   "nbconvert_exporter": "python",
   "pygments_lexer": "ipython3",
   "version": "3.9.15"
  }
 },
 "nbformat": 4,
 "nbformat_minor": 5
}
