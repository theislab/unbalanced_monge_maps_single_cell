{
 "cells": [
  {
   "cell_type": "markdown",
   "id": "fdaa8fbe",
   "metadata": {},
   "source": [
    "# Pancreas endocrinogenesis E1415 - Waddington OT"
   ]
  },
  {
   "cell_type": "markdown",
   "id": "3ad0978f",
   "metadata": {},
   "source": [
    "# Imports and settings"
   ]
  },
  {
   "cell_type": "code",
   "execution_count": null,
   "id": "8745e0ae",
   "metadata": {},
   "outputs": [],
   "source": [
    "import os\n",
    "import sys\n",
    "from pathlib import Path\n",
    "\n",
    "import numpy as np\n",
    "import pandas as pd \n",
    "\n",
    "import matplotlib.pyplot as plt\n",
    "import seaborn as sns\n",
    "\n",
    "import wot\n",
    "import scanpy as sc\n",
    "import scvelo as scv\n",
    "import cellrank as cr\n",
    "import anndata as ad\n",
    "from cellrank.external.kernels import WOTKernel\n",
    "from cellrank.estimators import GPCCA"
   ]
  },
  {
   "cell_type": "code",
   "execution_count": null,
   "id": "ebd501f4",
   "metadata": {},
   "outputs": [],
   "source": [
    "cr.logging.print_versions()"
   ]
  },
  {
   "cell_type": "markdown",
   "id": "417cda4c",
   "metadata": {},
   "source": [
    "# Data loading and preprocessing"
   ]
  },
  {
   "cell_type": "code",
   "execution_count": null,
   "id": "76b87b72",
   "metadata": {},
   "outputs": [],
   "source": [
    "adata825 = sc.read(\"/lustre/groups/ml01/workspace/monge_velo/data/benchmarks/gastrulation/stage_825_growth_rate.h5ad\")\n",
    "adata85 = sc.read(\"/lustre/groups/ml01/workspace/monge_velo/data/benchmarks/gastrulation/stage_85_growth_rate.h5ad\")\n",
    "adata = ad.concat([adata825, adata85], merge = 'same')\n",
    "\n",
    "leave_in_cell = ['Blood progenitors 2', 'Erythroid1', 'Erythroid2', 'Erythroid3']\n",
    "adata = adata[adata.obs[\"celltype\"].isin(leave_in_cell)].copy()\n",
    "\n",
    "sc.pp.log1p(adata)\n",
    "\n",
    "adata.obs = adata.obs.loc[:, ['stage', 'celltype']]\n",
    "adata.var = adata.var.loc[:, ['highly_variable']]\n",
    "adata.obs['celltype'] = pd.Series(adata.obs['celltype'], dtype='category')"
   ]
  },
  {
   "cell_type": "markdown",
   "id": "bc60e824",
   "metadata": {},
   "source": [
    "# Transition probabilities"
   ]
  },
  {
   "cell_type": "code",
   "execution_count": null,
   "id": "e403f83f",
   "metadata": {},
   "outputs": [],
   "source": [
    "wk = WOTKernel(adata, time_key=\"stage\")\n",
    "wk.compute_initial_growth_rates(organism=\"mouse\", key_added=\"growth_rate_init\")\n",
    "wk.compute_transition_matrix(\n",
    "    growth_iters=3, growth_rate_key=\"growth_rate_init\"\n",
    ")"
   ]
  },
  {
   "cell_type": "markdown",
   "id": "093870d8",
   "metadata": {},
   "source": [
    "# Macrostate calculation"
   ]
  },
  {
   "cell_type": "code",
   "execution_count": null,
   "id": "402937f8",
   "metadata": {},
   "outputs": [],
   "source": [
    "g = GPCCA(wk)\n",
    "g.compute_schur(n_components=20)\n",
    "g.plot_spectrum(real_only=True)"
   ]
  },
  {
   "cell_type": "code",
   "execution_count": null,
   "id": "510c326b",
   "metadata": {},
   "outputs": [],
   "source": [
    "g.compute_macrostates(n_states=1, cluster_key=\"celltype\")\n",
    "scv.set_figure_params('scvelo', transparent=True, fontsize=20, color_map='viridis')\n",
    "g.plot_macrostates(discrete=True, basis=\"umap\", legend_loc=\"right\", legend_fontweight='normal', legend_fontsize='12', dpi=250)"
   ]
  },
  {
   "cell_type": "markdown",
   "id": "ecbb439e",
   "metadata": {},
   "source": [
    "# Fate probabilities"
   ]
  },
  {
   "cell_type": "code",
   "execution_count": null,
   "id": "d57e6c00",
   "metadata": {},
   "outputs": [],
   "source": [
    "g.set_terminal_states_from_macrostates(\n",
    "    [\n",
    "        'Erythroid3'\n",
    "    ]\n",
    ")\n",
    "g.compute_absorption_probabilities(solver=\"gmres\", use_petsc=True, tol=1e-12, preconditioner='ilu')\n",
    "g.plot_absorption_probabilities(same_plot=False, basis=\"umap\", perc=[0, 99], ncols=2)"
   ]
  },
  {
   "cell_type": "code",
   "execution_count": null,
   "id": "8876f407",
   "metadata": {},
   "outputs": [],
   "source": [
    "cr.pl.aggregate_absorption_probabilities(\n",
    "    adata,\n",
    "    mode='heatmap',\n",
    "    lineages=['Erythroid3'],\n",
    "    cluster_key='celltype',\n",
    "    clusters=['Blood progenitors 2', 'Erythroid1', 'Erythroid2', 'Erythroid3'],\n",
    "    figsize=(17, 7),\n",
    "    title=\"\",\n",
    "    #save=\"transprobs_wot.png\"\n",
    ")"
   ]
  },
  {
   "cell_type": "code",
   "execution_count": null,
   "id": "3b657f54",
   "metadata": {},
   "outputs": [],
   "source": [
    "cluster = ['Blood progenitors 2', 'Erythroid1', 'Erythroid2', 'Erythroid3']\n",
    "terminal_cluster = ['Erythroid3']\n",
    "\n",
    "aggregated_absorption_prob = np.empty((len(terminal_cluster), len(cluster)))\n",
    "data = g.absorption_probabilities.X\n",
    "sums = np.sum(data, axis=0)\n",
    "tmp = adata.obs['celltype']\n",
    "\n",
    "for i in range(len(cluster)):\n",
    "    aggregated_absorption_prob[:,i] = np.dot(np.array((tmp.array==cluster[i]).astype(int)),data)\n",
    "for i in range(len(cluster)):\n",
    "    aggregated_absorption_prob[:,i] = aggregated_absorption_prob[:,i]/np.sum(aggregated_absorption_prob[:,i])\n",
    "df = pd.DataFrame(aggregated_absorption_prob)\n",
    "df.index = terminal_cluster\n",
    "df.columns = cluster"
   ]
  },
  {
   "cell_type": "code",
   "execution_count": null,
   "id": "286bfbb5",
   "metadata": {},
   "outputs": [],
   "source": [
    "correct_transitions = [('Erythroid3', 'Blood progenitors 2'), ('Erythroid3', 'Erythroid1'),\n",
    "                       ('Erythroid3', 'Erythroid2'), ('Erythroid3', 'Erythroid3')]\n",
    "\n",
    "sum_prob = 0\n",
    "for i in correct_transitions:\n",
    "    sum_prob = sum_prob + df.loc[i]\n",
    "mean_prob = sum_prob/len(cluster)\n",
    "mean_prob"
   ]
  }
 ],
 "metadata": {
  "kernelspec": {
   "display_name": "Python [conda env:neuralBenchmark_moscot]",
   "language": "python",
   "name": "conda-env-neuralBenchmark_moscot-py"
  },
  "language_info": {
   "codemirror_mode": {
    "name": "ipython",
    "version": 3
   },
   "file_extension": ".py",
   "mimetype": "text/x-python",
   "name": "python",
   "nbconvert_exporter": "python",
   "pygments_lexer": "ipython3",
   "version": "3.9.15"
  }
 },
 "nbformat": 4,
 "nbformat_minor": 5
}
