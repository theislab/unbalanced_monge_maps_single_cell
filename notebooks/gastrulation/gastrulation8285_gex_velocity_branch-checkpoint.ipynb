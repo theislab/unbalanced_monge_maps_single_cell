{
 "cells": [
  {
   "cell_type": "code",
   "execution_count": null,
   "id": "c24fa443",
   "metadata": {},
   "outputs": [],
   "source": [
    "import scanpy as sc\n",
    "import pandas as pd \n",
    "import numpy as np\n",
    "from anndata import AnnData, concat\n",
    "import cloudpickle"
   ]
  },
  {
   "cell_type": "code",
   "execution_count": null,
   "id": "3e51bfc2",
   "metadata": {},
   "outputs": [],
   "source": [
    "import jax.numpy as jnp"
   ]
  },
  {
   "cell_type": "code",
   "execution_count": null,
   "id": "717ab5dc",
   "metadata": {},
   "outputs": [],
   "source": [
    "import cellrank as cr\n",
    "import scvelo as scv"
   ]
  },
  {
   "cell_type": "code",
   "execution_count": null,
   "id": "f1404180",
   "metadata": {},
   "outputs": [],
   "source": [
    "from moscot.problems.time import TemporalNeuralProblem"
   ]
  },
  {
   "cell_type": "code",
   "execution_count": null,
   "id": "eb1a3a14",
   "metadata": {},
   "outputs": [],
   "source": [
    "org_adata = sc.read(\"/lustre/groups/ml01/workspace/monge_velo/data/benchmarks/gastrulation/adata_gastrulation.h5ad\")\n",
    "org_adata.obs['celltype'].unique()\n",
    "\n",
    "leave_out = ['E6.5', 'E6.75', 'E7.0', 'E7.25', 'E7.5', 'E7.75', 'E8.0']\n",
    "leave_in_cell = ['Blood progenitors 2', 'Erythroid1', 'Erythroid2', 'Erythroid3']\n",
    "adata = org_adata[~org_adata.obs[\"stage\"].isin(leave_out)].copy()\n",
    "adata = adata[adata.obs[\"celltype\"].isin(leave_in_cell)].copy()\n",
    "\n",
    "map_dict = {\"E6.5\": 6.5, \"E6.75\": 6.75, \"E7.0\": 7.0, \"E7.25\": 7.25, \"E7.5\": 7.5, \"E7.75\": 7.75, \"E8.0\": 8.0,\n",
    "            \"E8.25\": 8.25, \"E8.5\": 8.5}\n",
    "adata.obs[\"stage\"] = adata.obs[\"stage\"].copy().map(map_dict)\n",
    "\n",
    "adata.obs = adata.obs.loc[:, ['stage', 'celltype']]\n",
    "adata.var = adata.var[[]]\n",
    "\n",
    "sc.pp.log1p(adata)"
   ]
  },
  {
   "cell_type": "code",
   "execution_count": null,
   "id": "1ac998ae",
   "metadata": {},
   "outputs": [],
   "source": [
    "adata"
   ]
  },
  {
   "cell_type": "code",
   "execution_count": null,
   "id": "df3c2547",
   "metadata": {},
   "outputs": [],
   "source": [
    "tnp = TemporalNeuralProblem(adata)\n",
    "tnp = tnp.score_genes_for_marginals(\"mouse\", \"mouse\")"
   ]
  },
  {
   "cell_type": "code",
   "execution_count": null,
   "id": "fda8d11b",
   "metadata": {},
   "outputs": [],
   "source": [
    "tnp = tnp.prepare(\"stage\", joint_attr=\"X_pca\")\n",
    "tnp = tnp.solve(tau_a=0.95, tau_b=0.95)"
   ]
  },
  {
   "cell_type": "code",
   "execution_count": null,
   "id": "980a5c24",
   "metadata": {},
   "outputs": [],
   "source": [
    "with open(\"/lustre/groups/ml01/workspace/monge_velo/data/benchmarks/gastrulation/test_save_branch_tnp\", \"wb\") as f:\n",
    "    cloudpickle.dump(tnp, f)\n",
    "\n",
    "tnp"
   ]
  },
  {
   "cell_type": "code",
   "execution_count": null,
   "id": "48a24057",
   "metadata": {},
   "outputs": [],
   "source": [
    "with open(\"/lustre/groups/ml01/workspace/monge_velo/data/benchmarks/gastrulation/test_save_branch_tnp\", \"rb\") as f:\n",
    "    tnp = cloudpickle.load(f)"
   ]
  },
  {
   "cell_type": "code",
   "execution_count": null,
   "id": "fd5f9951",
   "metadata": {},
   "outputs": [],
   "source": [
    "import matplotlib.pyplot as plt\n",
    "fig, ax = plt.subplots()\n",
    "ax.plot(tnp[8.25, 8.5].solution._training_logs[\"valid_logs\"][\"sinkhorn_loss_forward\"], label=\"forward\")\n",
    "ax.plot(tnp[8.25, 8.5].solution._training_logs[\"valid_logs\"][\"sinkhorn_loss_inverse\"], label=\"inverse\")\n",
    "ax.set_ylabel(\"sinkhorn loss\")\n",
    "ax.legend()\n",
    "plt.show()"
   ]
  },
  {
   "cell_type": "code",
   "execution_count": null,
   "id": "e1796d67",
   "metadata": {},
   "outputs": [],
   "source": [
    "fig, ax = plt.subplots()\n",
    "ax.plot(tnp[8.25, 8.5].solution._training_logs[\"valid_logs\"][\"valid_w_dist\"])\n",
    "ax.set_ylabel(\"W2-distance\")\n",
    "plt.show()"
   ]
  },
  {
   "cell_type": "code",
   "execution_count": null,
   "id": "880ee5e3",
   "metadata": {},
   "outputs": [],
   "source": [
    "source = jnp.array(adata.obsm[\"X_pca\"].copy())"
   ]
  },
  {
   "cell_type": "code",
   "execution_count": null,
   "id": "5886a00e",
   "metadata": {},
   "outputs": [],
   "source": [
    "velocity = tnp[8.25, 8.5].solution.push(source) - source"
   ]
  },
  {
   "cell_type": "code",
   "execution_count": null,
   "id": "81fb9c0d",
   "metadata": {},
   "outputs": [],
   "source": [
    "adata_result = AnnData(shape=velocity.shape)\n",
    "adata_result.obs = adata.obs.copy()"
   ]
  },
  {
   "cell_type": "code",
   "execution_count": null,
   "id": "3d21c1fc",
   "metadata": {},
   "outputs": [],
   "source": [
    "adata_result.layers[\"GEX_velocity\"] = np.asarray(velocity)\n",
    "adata_result.layers[\"X_pca\"] = np.asarray(adata.obsm[\"X_pca\"])"
   ]
  },
  {
   "cell_type": "code",
   "execution_count": null,
   "id": "5683be00",
   "metadata": {},
   "outputs": [],
   "source": [
    "adata_result"
   ]
  },
  {
   "cell_type": "code",
   "execution_count": null,
   "id": "f0a20bb8",
   "metadata": {},
   "outputs": [],
   "source": [
    "adata_result.write(\"/lustre/groups/ml01/workspace/monge_velo/data/benchmarks/gastrulation/adata_gex_velocities_branch.h5ad\")"
   ]
  },
  {
   "cell_type": "code",
   "execution_count": null,
   "id": "a31d773c",
   "metadata": {},
   "outputs": [],
   "source": []
  }
 ],
 "metadata": {
  "kernelspec": {
   "display_name": "Python [conda env:gex]",
   "language": "python",
   "name": "conda-env-gex-py"
  },
  "language_info": {
   "codemirror_mode": {
    "name": "ipython",
    "version": 3
   },
   "file_extension": ".py",
   "mimetype": "text/x-python",
   "name": "python",
   "nbconvert_exporter": "python",
   "pygments_lexer": "ipython3",
   "version": "3.9.15"
  }
 },
 "nbformat": 4,
 "nbformat_minor": 5
}
