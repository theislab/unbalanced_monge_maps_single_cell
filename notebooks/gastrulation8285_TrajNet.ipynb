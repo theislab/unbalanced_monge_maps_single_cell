{
 "cells": [
  {
   "cell_type": "code",
   "execution_count": 1,
   "metadata": {},
   "outputs": [],
   "source": [
    "%load_ext autoreload\n",
    "%autoreload 2"
   ]
  },
  {
   "cell_type": "code",
   "execution_count": 1,
   "metadata": {},
   "outputs": [],
   "source": [
    "import numpy as np\n",
    "import scanpy as sc\n",
    "import cellrank as cr\n",
    "import scvelo as scv\n",
    "from tueplots import bundles\n",
    "from tueplots import axes\n",
    "import anndata as ad\n",
    "import matplotlib.pyplot as plt\n",
    "import matplotlib.ticker as ticker"
   ]
  },
  {
   "cell_type": "code",
   "execution_count": 3,
   "metadata": {},
   "outputs": [
    {
     "name": "stdout",
     "output_type": "stream",
     "text": [
      "cellrank==1.5.1 scanpy==1.9.1 anndata==0.8.0 numpy==1.23.5 numba==0.56.4 scipy==1.9.3 pandas==1.5.2 pygpcca==1.0.4 scikit-learn==1.1.3 statsmodels==0.13.5 scvelo==0.2.5 pygam==0.8.0 matplotlib==3.6.2 seaborn==0.12.1\n"
     ]
    }
   ],
   "source": [
    "plt.rcParams.update(**bundles.neurips2022(usetex=False, nrows=2), **axes.lines(base_width=0.5), **{\"figure.dpi\": 250})\n",
    "\n",
    "scv.set_figure_params('scvelo', fontsize=20, color_map='viridis', dpi=400)  # for beautified visualization\n",
    "\n",
    "cr.logging.print_versions()"
   ]
  },
  {
   "cell_type": "code",
   "execution_count": 4,
   "metadata": {},
   "outputs": [
    {
     "name": "stdout",
     "output_type": "stream",
     "text": [
      "data loaded\n"
     ]
    }
   ],
   "source": [
    "adata = scv.datasets.gastrulation()\n",
    "print(\"data loaded\")\n",
    "\n",
    "adata_25 = sc.pp.subsample(adata[adata.obs['stage'] == 'E8.25', :], n_obs=1000, copy=True)\n",
    "adata_5 = sc.pp.subsample(adata[adata.obs['stage'] == 'E8.5', :], n_obs=1000, copy=True) \n",
    "\n",
    "del adata"
   ]
  },
  {
   "cell_type": "code",
   "execution_count": 5,
   "metadata": {},
   "outputs": [
    {
     "name": "stdout",
     "output_type": "stream",
     "text": [
      "recovering dynamics (using 7/8 cores)\n"
     ]
    },
    {
     "data": {
      "application/vnd.jupyter.widget-view+json": {
       "model_id": "cf0fd874d9d14e679769fd20a5628733",
       "version_major": 2,
       "version_minor": 0
      },
      "text/plain": [
       "  0%|          | 0/53801 [00:00<?, ?gene/s]"
      ]
     },
     "metadata": {},
     "output_type": "display_data"
    },
    {
     "ename": "",
     "evalue": "",
     "output_type": "error",
     "traceback": [
      "\u001b[1;31mCanceled future for execute_request message before replies were done"
     ]
    },
    {
     "ename": "",
     "evalue": "",
     "output_type": "error",
     "traceback": [
      "\u001b[1;31mThe Kernel crashed while executing code in the the current cell or a previous cell. Please review the code in the cell(s) to identify a possible cause of the failure. Click <a href='https://aka.ms/vscodeJupyterKernelCrash'>here</a> for more info. View Jupyter <a href='command:jupyter.viewOutput'>log</a> for further details."
     ]
    }
   ],
   "source": [
    "scv.tl.recover_dynamics(adata_25, n_jobs=7)\n",
    "scv.tl.velocity(adata_25, mode='dynamical')"
   ]
  },
  {
   "cell_type": "code",
   "execution_count": null,
   "metadata": {},
   "outputs": [],
   "source": [
    "scv.tl.recover_dynamics(adata_5, n_jobs=7)\n",
    "scv.tl.velocity(adata_5, mode='dynamical')"
   ]
  },
  {
   "cell_type": "code",
   "execution_count": 11,
   "metadata": {},
   "outputs": [
    {
     "name": "stdout",
     "output_type": "stream",
     "text": [
      "AnnData object with n_obs × n_vars = 2000 × 53801\n",
      "    obs: 'barcode', 'sample', 'stage', 'sequencing.batch', 'theiler', 'doub.density', 'doublet', 'cluster', 'cluster.sub', 'cluster.stage', 'cluster.theiler', 'stripped', 'celltype', 'colour', 'umapX', 'umapY', 'haem_gephiX', 'haem_gephiY', 'haem_subclust', 'endo_gephiX', 'endo_gephiY', 'endo_trajectoryName', 'endo_trajectoryDPT', 'endo_gutX', 'endo_gutY', 'endo_gutDPT', 'endo_gutCluster', 'cell_velocyto_loom'\n",
      "    obsm: 'X_pca', 'X_umap'\n",
      "    layers: 'spliced', 'unspliced'\n"
     ]
    },
    {
     "ename": "",
     "evalue": "",
     "output_type": "error",
     "traceback": [
      "\u001b[1;31mThe Kernel crashed while executing code in the the current cell or a previous cell. Please review the code in the cell(s) to identify a possible cause of the failure. Click <a href='https://aka.ms/vscodeJupyterKernelCrash'>here</a> for more info. View Jupyter <a href='command:jupyter.viewOutput'>log</a> for further details."
     ]
    }
   ],
   "source": [
    "adata = ad.concat([adata_25, adata_5])\n",
    "print(adata)"
   ]
  },
  {
   "cell_type": "code",
   "execution_count": null,
   "metadata": {},
   "outputs": [],
   "source": [
    "from neural_ot.utils import get_neural_dual_from_ckpt, mmd_rbf, sinkhorn_loss"
   ]
  },
  {
   "cell_type": "code",
   "execution_count": null,
   "metadata": {},
   "outputs": [],
   "source": [
    "adata.layers[\"velocity\"] = -1 * adata.layers[\"velocity\"].copy()"
   ]
  },
  {
   "cell_type": "code",
   "execution_count": null,
   "metadata": {},
   "outputs": [],
   "source": [
    "print(sinkhorn_loss(adata[adata.obs[\"stage\"] == \"8.25\"].X + adata[adata.obs[\"stage\"] == \"8.25\"].layers[\"velocity\"], adata[adata.obs[\"stage\"] == \"8.5\"].X))"
   ]
  },
  {
   "cell_type": "code",
   "execution_count": null,
   "metadata": {},
   "outputs": [],
   "source": [
    "vk = cr.kernels.VelocityKernel(adata)\n",
    "vk.compute_transition_matrix()"
   ]
  },
  {
   "cell_type": "code",
   "execution_count": null,
   "metadata": {},
   "outputs": [],
   "source": [
    "g = cr.estimators.GPCCA(vk)"
   ]
  },
  {
   "cell_type": "code",
   "execution_count": null,
   "metadata": {},
   "outputs": [],
   "source": [
    "g.compute_macrostates(n_states=10, cluster_key=\"celltype\")"
   ]
  },
  {
   "cell_type": "code",
   "execution_count": null,
   "metadata": {},
   "outputs": [],
   "source": [
    "g.compute_terminal_states(method=\"top_n\", n_states=10)\n",
    "scv.set_figure_params('scvelo', transparent=True, fontsize=20, color_map='viridis')\n",
    "g.plot_terminal_states(discrete=True, basis=\"umap\", legend_loc=\"right\", legend_fontweight='normal', legend_fontsize='12', dpi=250)"
   ]
  },
  {
   "cell_type": "code",
   "execution_count": null,
   "metadata": {},
   "outputs": [],
   "source": [
    "g.set_terminal_states_from_macrostates(\n",
    "    [\n",
    "        \"Acinar_1\", \"Acinar_2\", \"Ductal\", \"Alpha\", \"Beta_1\", \"Beta_2\", \"Delta\", \"Epsilon\"\n",
    "    ]\n",
    ")\n",
    "g.compute_absorption_probabilities(solver=\"gmres\", use_petsc=True, tol=1e-12, preconditioner='ilu', time_to_absorption='all')\n",
    "g.plot_absorption_probabilities(same_plot=False, basis=\"umap\", perc=[0, 99], ncols=2)"
   ]
  },
  {
   "cell_type": "code",
   "execution_count": null,
   "metadata": {},
   "outputs": [],
   "source": [
    "cr.pl.aggregate_absorption_probabilities(\n",
    "    adata,\n",
    "    mode='heatmap',\n",
    "    lineages=\n",
    "    [\n",
    "         \"Acinar_1\", \"Acinar_2\", \"Ductal\", \"Alpha\", \"Beta_1\", \"Beta_2\", \"Delta\", \"Epsilon\"\n",
    "    ],\n",
    "    cluster_key='celltype',\n",
    "    clusters=['Acinar', 'Tip', 'Ductal', 'Ngn3 High early','Ngn3 High late', 'Fev+ Alpha', 'Alpha', 'Fev+ Beta', 'Beta', 'Fev+ Delta', 'Delta', 'Fev+ Epsilon', 'Epsilon'],\n",
    "    figsize=(17, 6),\n",
    "    title=\"\",\n",
    "    #save=\"transprobs_pancreas1415_trajectorynet.png\"\n",
    ")"
   ]
  },
  {
   "cell_type": "code",
   "execution_count": null,
   "metadata": {},
   "outputs": [],
   "source": [
    "adata.uns[\"velocity_graph\"] = vk.transition_matrix\n",
    "scv.pl.velocity_embedding_stream(adata,\n",
    "                                 basis=\"umap\",\n",
    "                                 title=\"\",\n",
    "                                 legend_loc=\"none\",\n",
    "                                 smooth=0.5, \n",
    "                                 #save=\"velstream_pancreas1415_trajectorynet.png\"\n",
    "                                )"
   ]
  },
  {
   "cell_type": "code",
   "execution_count": null,
   "metadata": {},
   "outputs": [],
   "source": [
    "adata.layers[\"Ms\"] = adata.layers[\"pca\"].copy()\n",
    "scv.tl.velocity_confidence(adata)"
   ]
  },
  {
   "cell_type": "code",
   "execution_count": null,
   "metadata": {},
   "outputs": [],
   "source": [
    "scv.set_figure_params('scvelo', fontsize=20)\n",
    "scv.settings.presenter_view = False\n",
    "\n",
    "scv.settings.set_figure_params('scvelo', dpi_save=800, dpi=400, transparent=True, fontsize=20, color_map='viridis')"
   ]
  },
  {
   "cell_type": "code",
   "execution_count": null,
   "metadata": {},
   "outputs": [],
   "source": [
    "scv.pl.scatter(adata, color=['velocity_confidence'],\n",
    "               perc=[2, 98],\n",
    "               cmap='gnuplot',\n",
    "               vmid=0.75,\n",
    "               rescale_color=[0.5, 1.0],\n",
    "               size=15,\n",
    "               color_map=\"none\",\n",
    "               title=\"\",\n",
    "               #save=\"velconf_pancreas1415_trajectorynet.png\"\n",
    "              )"
   ]
  }
 ],
 "metadata": {
  "kernelspec": {
   "display_name": "Python 3.8.10 ('neuralOTBench')",
   "language": "python",
   "name": "python3"
  },
  "language_info": {
   "codemirror_mode": {
    "name": "ipython",
    "version": 3
   },
   "file_extension": ".py",
   "mimetype": "text/x-python",
   "name": "python",
   "nbconvert_exporter": "python",
   "pygments_lexer": "ipython3",
   "version": "3.8.10 (default, Jun 22 2022, 20:18:18) \n[GCC 9.4.0]"
  },
  "orig_nbformat": 4,
  "vscode": {
   "interpreter": {
    "hash": "b954348356b0444886df2a11446af73db17c752c7ef1573e32f91ac75232b3f0"
   }
  }
 },
 "nbformat": 4,
 "nbformat_minor": 2
}
