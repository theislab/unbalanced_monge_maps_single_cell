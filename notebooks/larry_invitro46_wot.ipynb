{
 "cells": [
  {
   "cell_type": "code",
   "execution_count": 1,
   "id": "9d01fbb6",
   "metadata": {},
   "outputs": [],
   "source": [
    "import os\n",
    "import sys\n",
    "from pathlib import Path\n",
    "\n",
    "import numpy as np\n",
    "import pandas as pd \n",
    "\n",
    "import matplotlib.pyplot as plt\n",
    "import seaborn as sns\n",
    "\n",
    "import wot\n",
    "import scanpy as sc\n",
    "import scvelo as scv\n",
    "import cellrank as cr\n",
    "import anndata as ad\n",
    "from cellrank.external.kernels import WOTKernel\n",
    "from cellrank.estimators import GPCCA\n",
    "from tueplots import bundles\n",
    "from tueplots import axes\n"
   ]
  },
  {
   "cell_type": "code",
   "execution_count": 2,
   "id": "48f5ed14",
   "metadata": {},
   "outputs": [
    {
     "name": "stdout",
     "output_type": "stream",
     "text": [
      "cellrank==1.5.1+g16069e25 scanpy==1.9.1 anndata==0.8.0 numpy==1.23.5 numba==0.56.4 scipy==1.10.0 pandas==1.5.2 pygpcca==1.0.4 scikit-learn==1.2.0 statsmodels==0.13.5 scvelo==0.2.5 pygam==0.8.0 matplotlib==3.6.2 seaborn==0.12.2\n"
     ]
    }
   ],
   "source": [
    "cr.logging.print_versions()"
   ]
  },
  {
   "cell_type": "code",
   "execution_count": 3,
   "id": "05f8d994",
   "metadata": {},
   "outputs": [
    {
     "data": {
      "text/plain": [
       "AnnData object with n_obs × n_vars = 44664 × 23420\n",
       "    obs: 'Library', 'Cell barcode', 'time_info', 'Starting population', 'state_info', 'Well', 'SPRING-x', 'SPRING-y', 'prolif', 'apoptosis', 'growth_rate', 'scaled_growth_rate', 'scaled3_growth_rate', 'scaled4_growth_rate'\n",
       "    var: 'Accession', 'Chromosome', 'End', 'Start', 'Strand', 'highly_variable', 'means', 'dispersions', 'dispersions_norm'\n",
       "    obsm: 'X_clone', 'X_emb', 'X_pca', 'X_umap'\n",
       "    varm: 'PCs'\n",
       "    layers: 'ambiguous', 'matrix', 'spliced', 'unspliced'"
      ]
     },
     "execution_count": 3,
     "metadata": {},
     "output_type": "execute_result"
    }
   ],
   "source": [
    "adata825 = sc.read(\"/lustre/groups/ml01/workspace/monge_velo/data/benchmarks/larry_invitro/stage_4_growth_rate.h5ad\")\n",
    "adata85 = sc.read(\"/lustre/groups/ml01/workspace/monge_velo/data/benchmarks/larry_invitro/stage_6_growth_rate.h5ad\")\n",
    "adata = ad.concat([adata825, adata85], merge = 'same')\n",
    "adata"
   ]
  },
  {
   "cell_type": "code",
   "execution_count": 4,
   "id": "7be21fb0",
   "metadata": {},
   "outputs": [
    {
     "name": "stdout",
     "output_type": "stream",
     "text": [
      "WARNING: genes are not in var_names and ignored: ['Wrap73', 'Hras']\n"
     ]
    },
    {
     "name": "stderr",
     "output_type": "stream",
     "text": [
      "100%|████████████████████████████████████████████████████████████████████████████| 1/1 [50:41<00:00, 3041.30s/time pair]\n"
     ]
    },
    {
     "data": {
      "text/plain": [
       "WOTKernel"
      ]
     },
     "execution_count": 4,
     "metadata": {},
     "output_type": "execute_result"
    }
   ],
   "source": [
    "wk = WOTKernel(adata, time_key=\"time_info\")\n",
    "wk.compute_initial_growth_rates(organism=\"mouse\", key_added=\"growth_rate_init\")\n",
    "wk.compute_transition_matrix(\n",
    "    growth_iters=3, growth_rate_key=\"growth_rate_init\"\n",
    ")"
   ]
  },
  {
   "cell_type": "code",
   "execution_count": 5,
   "id": "608377f4",
   "metadata": {},
   "outputs": [],
   "source": [
    "g = GPCCA(wk)"
   ]
  },
  {
   "cell_type": "code",
   "execution_count": null,
   "id": "514680db",
   "metadata": {},
   "outputs": [
    {
     "name": "stdout",
     "output_type": "stream",
     "text": [
      "WARNING: Unable to import `petsc4py` or `slepc4py`. Using `method='brandts'`\n",
      "WARNING: For `method='brandts'`, dense matrix is required. Densifying\n"
     ]
    }
   ],
   "source": [
    "g.compute_schur(n_components=20)\n",
    "g.plot_spectrum(real_only=True)"
   ]
  },
  {
   "cell_type": "code",
   "execution_count": null,
   "id": "7902aefe",
   "metadata": {},
   "outputs": [],
   "source": [
    "g.compute_macrostates(n_states=10, cluster_key=\"state_info\")\n",
    "scv.set_figure_params('scvelo', transparent=True, fontsize=20, color_map='viridis')\n",
    "g.plot_macrostates(discrete=True, basis=\"umap\", legend_loc=\"right\", legend_fontweight='normal', legend_fontsize='12', dpi=250)"
   ]
  },
  {
   "cell_type": "code",
   "execution_count": null,
   "id": "e81b3151",
   "metadata": {},
   "outputs": [],
   "source": [
    "g.compute_macrostates(n_states=9, cluster_key=\"state_info\")\n",
    "scv.set_figure_params('scvelo', transparent=True, fontsize=20, color_map='viridis')\n",
    "g.plot_macrostates(discrete=True, basis=\"umap\", legend_loc=\"right\", legend_fontweight='normal', legend_fontsize='12', dpi=250)"
   ]
  },
  {
   "cell_type": "code",
   "execution_count": null,
   "id": "e8e59a64",
   "metadata": {},
   "outputs": [],
   "source": [
    "g.set_terminal_states_from_macrostates(\n",
    "    [\n",
    "        \"Acinar_1\", \"Acinar_2\", \"Ductal_1\", \"Ductal_2\", \"Alpha\", \"Beta\", \"Delta\", \"Epsilon\", \n",
    "    ]\n",
    ")\n",
    "g.compute_absorption_probabilities(solver=\"gmres\", use_petsc=True, tol=1e-12, preconditioner='ilu', time_to_absorption='all')\n",
    "g.plot_absorption_probabilities(same_plot=False, basis=\"umap\", perc=[0, 99], ncols=2)"
   ]
  },
  {
   "cell_type": "code",
   "execution_count": null,
   "id": "dfa8c995",
   "metadata": {},
   "outputs": [],
   "source": [
    "cr.pl.aggregate_absorption_probabilities(\n",
    "    adata,\n",
    "    mode='heatmap',\n",
    "    lineages=[\"Acinar_1\", \"Acinar_2\", \"Ductal_1\", \"Ductal_2\", \"Alpha\", \"Beta\", \"Delta\", \"Epsilon\"],\n",
    "    cluster_key='celltype',\n",
    "    clusters=['Acinar', 'Multipotent', 'Tip', 'Ductal', 'Ngn3 High early', 'Ngn3 High late', 'Fev+ Alpha', 'Alpha', 'Fev+ Beta', 'Beta', 'Fev+ Delta', 'Delta', 'Fev+ Epsilon', 'Epsilon'],\n",
    "    figsize=(17, 7),\n",
    "    title=\"\",\n",
    "    #save=\"transprobs_wot.png\"\n",
    ")"
   ]
  },
  {
   "cell_type": "code",
   "execution_count": null,
   "id": "089fa4d8",
   "metadata": {},
   "outputs": [],
   "source": []
  }
 ],
 "metadata": {
  "kernelspec": {
   "display_name": "Python [conda env:neuralBenchmark]",
   "language": "python",
   "name": "conda-env-neuralBenchmark-py"
  },
  "language_info": {
   "codemirror_mode": {
    "name": "ipython",
    "version": 3
   },
   "file_extension": ".py",
   "mimetype": "text/x-python",
   "name": "python",
   "nbconvert_exporter": "python",
   "pygments_lexer": "ipython3",
   "version": "3.8.15"
  }
 },
 "nbformat": 4,
 "nbformat_minor": 5
}
