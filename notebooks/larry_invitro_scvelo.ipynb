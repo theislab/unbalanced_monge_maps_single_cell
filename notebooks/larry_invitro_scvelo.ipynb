{
 "cells": [
  {
   "cell_type": "code",
   "execution_count": 1,
   "id": "d1b3e2b1",
   "metadata": {},
   "outputs": [],
   "source": [
    "import os\n",
    "import sys\n",
    "from pathlib import Path\n",
    "\n",
    "import numpy as np\n",
    "import pandas as pd \n",
    "\n",
    "import matplotlib.pyplot as plt\n",
    "import seaborn as sns\n",
    "\n",
    "import scanpy as sc\n",
    "import scvelo as scv\n",
    "import cellrank as cr\n",
    "import anndata as ad\n",
    "from cellrank.kernels import ConnectivityKernel, VelocityKernel\n",
    "from cellrank.estimators import GPCCA\n",
    "from tueplots import bundles\n",
    "from tueplots import axes"
   ]
  },
  {
   "cell_type": "code",
   "execution_count": 2,
   "id": "c074712e",
   "metadata": {},
   "outputs": [
    {
     "name": "stdout",
     "output_type": "stream",
     "text": [
      "cellrank==1.5.1+g16069e25 scanpy==1.9.1 anndata==0.8.0 numpy==1.23.5 numba==0.56.4 scipy==1.10.0 pandas==1.5.2 pygpcca==1.0.4 scikit-learn==1.2.0 statsmodels==0.13.5 scvelo==0.2.5 pygam==0.8.0 matplotlib==3.6.2 seaborn==0.12.2\n"
     ]
    }
   ],
   "source": [
    "cr.logging.print_versions()"
   ]
  },
  {
   "cell_type": "code",
   "execution_count": 3,
   "id": "90f1aa69",
   "metadata": {},
   "outputs": [
    {
     "data": {
      "text/plain": [
       "AnnData object with n_obs × n_vars = 49302 × 23420\n",
       "    obs: 'Library', 'Cell barcode', 'time_info', 'Starting population', 'state_info', 'Well', 'SPRING-x', 'SPRING-y'\n",
       "    var: 'Accession', 'Chromosome', 'End', 'Start', 'Strand'\n",
       "    uns: 'data_des'\n",
       "    obsm: 'X_clone', 'X_emb'\n",
       "    layers: 'ambiguous', 'matrix', 'spliced', 'unspliced'"
      ]
     },
     "execution_count": 3,
     "metadata": {},
     "output_type": "execute_result"
    }
   ],
   "source": [
    "org_adata = sc.read(\"/lustre/groups/ml01/workspace/monge_velo/data/benchmarks/larry_invitro/larry_invitro_adata_sub_raw.h5ad\")\n",
    "org_adata"
   ]
  },
  {
   "cell_type": "code",
   "execution_count": 4,
   "id": "7a3760a3",
   "metadata": {},
   "outputs": [
    {
     "name": "stdout",
     "output_type": "stream",
     "text": [
      "Filtered out 16268 genes that are detected 20 counts (shared).\n",
      "WARNING: Did not normalize X as it looks processed already. To enforce normalization, set `enforce=True`.\n",
      "Normalized count data: spliced, unspliced.\n",
      "Extracted 2000 highly variable genes.\n",
      "WARNING: Did not modify X as it looks preprocessed already.\n"
     ]
    },
    {
     "data": {
      "text/plain": [
       "AnnData object with n_obs × n_vars = 44664 × 2000\n",
       "    obs: 'time_info', 'state_info', 'initial_size_unspliced', 'initial_size_spliced', 'initial_size', 'n_counts'\n",
       "    var: 'means', 'dispersions', 'dispersions_norm', 'highly_variable'\n",
       "    uns: 'log1p'\n",
       "    obsm: 'X_clone', 'X_emb'\n",
       "    layers: 'ambiguous', 'matrix', 'spliced', 'unspliced'"
      ]
     },
     "execution_count": 4,
     "metadata": {},
     "output_type": "execute_result"
    }
   ],
   "source": [
    "leave_out = [2]\n",
    "adata = org_adata[~org_adata.obs['time_info'].isin(leave_out)].copy()\n",
    "\n",
    "adata.obs = adata.obs.loc[:, ['time_info', 'state_info']]\n",
    "adata.var = adata.var[[]]\n",
    "adata.uns = {}\n",
    "\n",
    "sc.pp.log1p(adata)\n",
    "scv.pp.filter_and_normalize(adata, min_shared_counts = 20, n_top_genes=2000)\n",
    "\n",
    "adata"
   ]
  },
  {
   "cell_type": "code",
   "execution_count": 5,
   "id": "86cbe593",
   "metadata": {},
   "outputs": [],
   "source": [
    "adata_four = adata[adata.obs['time_info'] == 4.0, :].copy()\n",
    "adata_six = adata[adata.obs['time_info'] == 6.0, :].copy()"
   ]
  },
  {
   "cell_type": "code",
   "execution_count": 6,
   "id": "9313c547",
   "metadata": {},
   "outputs": [
    {
     "name": "stdout",
     "output_type": "stream",
     "text": [
      "computing neighbors\n",
      "    finished (0:00:45) --> added \n",
      "    'distances' and 'connectivities', weighted adjacency matrices (adata.obsp)\n",
      "computing moments based on connectivities\n",
      "    finished (0:00:02) --> added \n",
      "    'Ms' and 'Mu', moments of un/spliced abundances (adata.layers)\n",
      "recovering dynamics (using 80/96 cores)\n",
      "WARNING: Unable to create progress bar. Consider installing `tqdm` as `pip install tqdm` and `ipywidgets` as `pip install ipywidgets`,\n",
      "or disable the progress bar using `show_progress_bar=False`.\n"
     ]
    },
    {
     "name": "stderr",
     "output_type": "stream",
     "text": [
      "/home/icb/jonas.flor/miniconda3/envs/neuralBenchmark/lib/python3.8/site-packages/joblib/externals/loky/process_executor.py:700: UserWarning: A worker stopped while some jobs were given to the executor. This can be caused by a too short worker timeout or by a memory leak.\n",
      "  warnings.warn(\n",
      "/home/icb/jonas.flor/miniconda3/envs/neuralBenchmark/lib/python3.8/site-packages/joblib/externals/loky/process_executor.py:700: UserWarning: A worker stopped while some jobs were given to the executor. This can be caused by a too short worker timeout or by a memory leak.\n",
      "  warnings.warn(\n",
      "/home/icb/jonas.flor/miniconda3/envs/neuralBenchmark/lib/python3.8/site-packages/joblib/externals/loky/process_executor.py:700: UserWarning: A worker stopped while some jobs were given to the executor. This can be caused by a too short worker timeout or by a memory leak.\n",
      "  warnings.warn(\n",
      "/home/icb/jonas.flor/miniconda3/envs/neuralBenchmark/lib/python3.8/site-packages/joblib/externals/loky/process_executor.py:700: UserWarning: A worker stopped while some jobs were given to the executor. This can be caused by a too short worker timeout or by a memory leak.\n",
      "  warnings.warn(\n",
      "/home/icb/jonas.flor/miniconda3/envs/neuralBenchmark/lib/python3.8/site-packages/joblib/externals/loky/process_executor.py:700: UserWarning: A worker stopped while some jobs were given to the executor. This can be caused by a too short worker timeout or by a memory leak.\n",
      "  warnings.warn(\n",
      "/home/icb/jonas.flor/miniconda3/envs/neuralBenchmark/lib/python3.8/site-packages/joblib/externals/loky/process_executor.py:700: UserWarning: A worker stopped while some jobs were given to the executor. This can be caused by a too short worker timeout or by a memory leak.\n",
      "  warnings.warn(\n",
      "/home/icb/jonas.flor/miniconda3/envs/neuralBenchmark/lib/python3.8/site-packages/joblib/externals/loky/process_executor.py:700: UserWarning: A worker stopped while some jobs were given to the executor. This can be caused by a too short worker timeout or by a memory leak.\n",
      "  warnings.warn(\n",
      "/home/icb/jonas.flor/miniconda3/envs/neuralBenchmark/lib/python3.8/site-packages/joblib/externals/loky/process_executor.py:700: UserWarning: A worker stopped while some jobs were given to the executor. This can be caused by a too short worker timeout or by a memory leak.\n",
      "  warnings.warn(\n",
      "/home/icb/jonas.flor/miniconda3/envs/neuralBenchmark/lib/python3.8/site-packages/joblib/externals/loky/process_executor.py:700: UserWarning: A worker stopped while some jobs were given to the executor. This can be caused by a too short worker timeout or by a memory leak.\n",
      "  warnings.warn(\n",
      "/home/icb/jonas.flor/miniconda3/envs/neuralBenchmark/lib/python3.8/site-packages/joblib/externals/loky/process_executor.py:700: UserWarning: A worker stopped while some jobs were given to the executor. This can be caused by a too short worker timeout or by a memory leak.\n",
      "  warnings.warn(\n",
      "/home/icb/jonas.flor/miniconda3/envs/neuralBenchmark/lib/python3.8/site-packages/joblib/externals/loky/process_executor.py:700: UserWarning: A worker stopped while some jobs were given to the executor. This can be caused by a too short worker timeout or by a memory leak.\n",
      "  warnings.warn(\n",
      "/home/icb/jonas.flor/miniconda3/envs/neuralBenchmark/lib/python3.8/site-packages/joblib/externals/loky/process_executor.py:700: UserWarning: A worker stopped while some jobs were given to the executor. This can be caused by a too short worker timeout or by a memory leak.\n",
      "  warnings.warn(\n",
      "/home/icb/jonas.flor/miniconda3/envs/neuralBenchmark/lib/python3.8/site-packages/joblib/externals/loky/process_executor.py:700: UserWarning: A worker stopped while some jobs were given to the executor. This can be caused by a too short worker timeout or by a memory leak.\n",
      "  warnings.warn(\n",
      "/home/icb/jonas.flor/miniconda3/envs/neuralBenchmark/lib/python3.8/site-packages/joblib/externals/loky/process_executor.py:700: UserWarning: A worker stopped while some jobs were given to the executor. This can be caused by a too short worker timeout or by a memory leak.\n",
      "  warnings.warn(\n",
      "/home/icb/jonas.flor/miniconda3/envs/neuralBenchmark/lib/python3.8/site-packages/joblib/externals/loky/process_executor.py:700: UserWarning: A worker stopped while some jobs were given to the executor. This can be caused by a too short worker timeout or by a memory leak.\n",
      "  warnings.warn(\n",
      "/home/icb/jonas.flor/miniconda3/envs/neuralBenchmark/lib/python3.8/site-packages/joblib/externals/loky/process_executor.py:700: UserWarning: A worker stopped while some jobs were given to the executor. This can be caused by a too short worker timeout or by a memory leak.\n",
      "  warnings.warn(\n",
      "/home/icb/jonas.flor/miniconda3/envs/neuralBenchmark/lib/python3.8/site-packages/joblib/externals/loky/process_executor.py:700: UserWarning: A worker stopped while some jobs were given to the executor. This can be caused by a too short worker timeout or by a memory leak.\n",
      "  warnings.warn(\n",
      "/home/icb/jonas.flor/miniconda3/envs/neuralBenchmark/lib/python3.8/site-packages/joblib/externals/loky/process_executor.py:700: UserWarning: A worker stopped while some jobs were given to the executor. This can be caused by a too short worker timeout or by a memory leak.\n",
      "  warnings.warn(\n",
      "/home/icb/jonas.flor/miniconda3/envs/neuralBenchmark/lib/python3.8/site-packages/joblib/externals/loky/process_executor.py:700: UserWarning: A worker stopped while some jobs were given to the executor. This can be caused by a too short worker timeout or by a memory leak.\n",
      "  warnings.warn(\n",
      "/home/icb/jonas.flor/miniconda3/envs/neuralBenchmark/lib/python3.8/site-packages/joblib/externals/loky/process_executor.py:700: UserWarning: A worker stopped while some jobs were given to the executor. This can be caused by a too short worker timeout or by a memory leak.\n",
      "  warnings.warn(\n",
      "/home/icb/jonas.flor/miniconda3/envs/neuralBenchmark/lib/python3.8/site-packages/joblib/externals/loky/process_executor.py:700: UserWarning: A worker stopped while some jobs were given to the executor. This can be caused by a too short worker timeout or by a memory leak.\n",
      "  warnings.warn(\n",
      "/home/icb/jonas.flor/miniconda3/envs/neuralBenchmark/lib/python3.8/site-packages/joblib/externals/loky/process_executor.py:700: UserWarning: A worker stopped while some jobs were given to the executor. This can be caused by a too short worker timeout or by a memory leak.\n",
      "  warnings.warn(\n",
      "/home/icb/jonas.flor/miniconda3/envs/neuralBenchmark/lib/python3.8/site-packages/scvelo/tools/dynamical_model.py:721: VisibleDeprecationWarning: Creating an ndarray from ragged nested sequences (which is a list-or-tuple of lists-or-tuples-or ndarrays with different lengths or shapes) is deprecated. If you meant to do this, you must specify 'dtype=object' when creating the ndarray.\n",
      "  np.array([dm.alpha, dm.beta, dm.gamma, dm.pars[:3]]) / dm.m[-1]\n",
      "/home/icb/jonas.flor/miniconda3/envs/neuralBenchmark/lib/python3.8/site-packages/scvelo/tools/dynamical_model.py:724: VisibleDeprecationWarning: Creating an ndarray from ragged nested sequences (which is a list-or-tuple of lists-or-tuples-or ndarrays with different lengths or shapes) is deprecated. If you meant to do this, you must specify 'dtype=object' when creating the ndarray.\n",
      "  np.array([dm.t, dm.tau, dm.t_, dm.pars[4]]) * dm.m[-1]\n"
     ]
    },
    {
     "name": "stdout",
     "output_type": "stream",
     "text": [
      "    finished (0:40:24) --> added \n",
      "    'fit_pars', fitted parameters for splicing dynamics (adata.var)\n",
      "computing velocities\n",
      "    finished (0:00:32) --> added \n",
      "    'velocity', velocity vectors for each individual cell (adata.layers)\n"
     ]
    }
   ],
   "source": [
    "sc.pp.pca(adata_four, n_comps=50)\n",
    "scv.pp.moments(adata_four)\n",
    "scv.tl.recover_dynamics(adata_four, n_jobs=80)\n",
    "scv.tl.velocity(adata_four, mode = 'dynamical')"
   ]
  },
  {
   "cell_type": "code",
   "execution_count": 7,
   "id": "047b1e81",
   "metadata": {},
   "outputs": [
    {
     "name": "stdout",
     "output_type": "stream",
     "text": [
      "computing neighbors\n",
      "    finished (0:00:09) --> added \n",
      "    'distances' and 'connectivities', weighted adjacency matrices (adata.obsp)\n",
      "computing moments based on connectivities\n",
      "    finished (0:00:05) --> added \n",
      "    'Ms' and 'Mu', moments of un/spliced abundances (adata.layers)\n",
      "recovering dynamics (using 80/96 cores)\n"
     ]
    },
    {
     "name": "stderr",
     "output_type": "stream",
     "text": [
      "/home/icb/jonas.flor/miniconda3/envs/neuralBenchmark/lib/python3.8/site-packages/joblib/externals/loky/process_executor.py:700: UserWarning: A worker stopped while some jobs were given to the executor. This can be caused by a too short worker timeout or by a memory leak.\n",
      "  warnings.warn(\n",
      "/home/icb/jonas.flor/miniconda3/envs/neuralBenchmark/lib/python3.8/site-packages/joblib/externals/loky/process_executor.py:700: UserWarning: A worker stopped while some jobs were given to the executor. This can be caused by a too short worker timeout or by a memory leak.\n",
      "  warnings.warn(\n",
      "/home/icb/jonas.flor/miniconda3/envs/neuralBenchmark/lib/python3.8/site-packages/joblib/externals/loky/process_executor.py:700: UserWarning: A worker stopped while some jobs were given to the executor. This can be caused by a too short worker timeout or by a memory leak.\n",
      "  warnings.warn(\n",
      "/home/icb/jonas.flor/miniconda3/envs/neuralBenchmark/lib/python3.8/site-packages/joblib/externals/loky/process_executor.py:700: UserWarning: A worker stopped while some jobs were given to the executor. This can be caused by a too short worker timeout or by a memory leak.\n",
      "  warnings.warn(\n",
      "/home/icb/jonas.flor/miniconda3/envs/neuralBenchmark/lib/python3.8/site-packages/joblib/externals/loky/process_executor.py:700: UserWarning: A worker stopped while some jobs were given to the executor. This can be caused by a too short worker timeout or by a memory leak.\n",
      "  warnings.warn(\n",
      "/home/icb/jonas.flor/miniconda3/envs/neuralBenchmark/lib/python3.8/site-packages/joblib/externals/loky/process_executor.py:700: UserWarning: A worker stopped while some jobs were given to the executor. This can be caused by a too short worker timeout or by a memory leak.\n",
      "  warnings.warn(\n",
      "/home/icb/jonas.flor/miniconda3/envs/neuralBenchmark/lib/python3.8/site-packages/joblib/externals/loky/process_executor.py:700: UserWarning: A worker stopped while some jobs were given to the executor. This can be caused by a too short worker timeout or by a memory leak.\n",
      "  warnings.warn(\n",
      "/home/icb/jonas.flor/miniconda3/envs/neuralBenchmark/lib/python3.8/site-packages/joblib/externals/loky/process_executor.py:700: UserWarning: A worker stopped while some jobs were given to the executor. This can be caused by a too short worker timeout or by a memory leak.\n",
      "  warnings.warn(\n",
      "/home/icb/jonas.flor/miniconda3/envs/neuralBenchmark/lib/python3.8/site-packages/joblib/externals/loky/process_executor.py:700: UserWarning: A worker stopped while some jobs were given to the executor. This can be caused by a too short worker timeout or by a memory leak.\n",
      "  warnings.warn(\n",
      "/home/icb/jonas.flor/miniconda3/envs/neuralBenchmark/lib/python3.8/site-packages/joblib/externals/loky/process_executor.py:700: UserWarning: A worker stopped while some jobs were given to the executor. This can be caused by a too short worker timeout or by a memory leak.\n",
      "  warnings.warn(\n",
      "/home/icb/jonas.flor/miniconda3/envs/neuralBenchmark/lib/python3.8/site-packages/joblib/externals/loky/process_executor.py:700: UserWarning: A worker stopped while some jobs were given to the executor. This can be caused by a too short worker timeout or by a memory leak.\n",
      "  warnings.warn(\n",
      "/home/icb/jonas.flor/miniconda3/envs/neuralBenchmark/lib/python3.8/site-packages/joblib/externals/loky/process_executor.py:700: UserWarning: A worker stopped while some jobs were given to the executor. This can be caused by a too short worker timeout or by a memory leak.\n",
      "  warnings.warn(\n",
      "/home/icb/jonas.flor/miniconda3/envs/neuralBenchmark/lib/python3.8/site-packages/joblib/externals/loky/process_executor.py:700: UserWarning: A worker stopped while some jobs were given to the executor. This can be caused by a too short worker timeout or by a memory leak.\n",
      "  warnings.warn(\n",
      "/home/icb/jonas.flor/miniconda3/envs/neuralBenchmark/lib/python3.8/site-packages/joblib/externals/loky/process_executor.py:700: UserWarning: A worker stopped while some jobs were given to the executor. This can be caused by a too short worker timeout or by a memory leak.\n",
      "  warnings.warn(\n",
      "/home/icb/jonas.flor/miniconda3/envs/neuralBenchmark/lib/python3.8/site-packages/joblib/externals/loky/process_executor.py:700: UserWarning: A worker stopped while some jobs were given to the executor. This can be caused by a too short worker timeout or by a memory leak.\n",
      "  warnings.warn(\n",
      "/home/icb/jonas.flor/miniconda3/envs/neuralBenchmark/lib/python3.8/site-packages/joblib/externals/loky/process_executor.py:700: UserWarning: A worker stopped while some jobs were given to the executor. This can be caused by a too short worker timeout or by a memory leak.\n",
      "  warnings.warn(\n",
      "/home/icb/jonas.flor/miniconda3/envs/neuralBenchmark/lib/python3.8/site-packages/joblib/externals/loky/process_executor.py:700: UserWarning: A worker stopped while some jobs were given to the executor. This can be caused by a too short worker timeout or by a memory leak.\n",
      "  warnings.warn(\n",
      "/home/icb/jonas.flor/miniconda3/envs/neuralBenchmark/lib/python3.8/site-packages/joblib/externals/loky/process_executor.py:700: UserWarning: A worker stopped while some jobs were given to the executor. This can be caused by a too short worker timeout or by a memory leak.\n",
      "  warnings.warn(\n",
      "/home/icb/jonas.flor/miniconda3/envs/neuralBenchmark/lib/python3.8/site-packages/joblib/externals/loky/process_executor.py:700: UserWarning: A worker stopped while some jobs were given to the executor. This can be caused by a too short worker timeout or by a memory leak.\n",
      "  warnings.warn(\n",
      "/home/icb/jonas.flor/miniconda3/envs/neuralBenchmark/lib/python3.8/site-packages/joblib/externals/loky/process_executor.py:700: UserWarning: A worker stopped while some jobs were given to the executor. This can be caused by a too short worker timeout or by a memory leak.\n",
      "  warnings.warn(\n",
      "/home/icb/jonas.flor/miniconda3/envs/neuralBenchmark/lib/python3.8/site-packages/joblib/externals/loky/process_executor.py:700: UserWarning: A worker stopped while some jobs were given to the executor. This can be caused by a too short worker timeout or by a memory leak.\n",
      "  warnings.warn(\n",
      "/home/icb/jonas.flor/miniconda3/envs/neuralBenchmark/lib/python3.8/site-packages/joblib/externals/loky/process_executor.py:700: UserWarning: A worker stopped while some jobs were given to the executor. This can be caused by a too short worker timeout or by a memory leak.\n",
      "  warnings.warn(\n",
      "/home/icb/jonas.flor/miniconda3/envs/neuralBenchmark/lib/python3.8/site-packages/joblib/externals/loky/process_executor.py:700: UserWarning: A worker stopped while some jobs were given to the executor. This can be caused by a too short worker timeout or by a memory leak.\n",
      "  warnings.warn(\n",
      "/home/icb/jonas.flor/miniconda3/envs/neuralBenchmark/lib/python3.8/site-packages/joblib/externals/loky/process_executor.py:700: UserWarning: A worker stopped while some jobs were given to the executor. This can be caused by a too short worker timeout or by a memory leak.\n",
      "  warnings.warn(\n",
      "/home/icb/jonas.flor/miniconda3/envs/neuralBenchmark/lib/python3.8/site-packages/joblib/externals/loky/process_executor.py:700: UserWarning: A worker stopped while some jobs were given to the executor. This can be caused by a too short worker timeout or by a memory leak.\n",
      "  warnings.warn(\n",
      "/home/icb/jonas.flor/miniconda3/envs/neuralBenchmark/lib/python3.8/site-packages/joblib/externals/loky/process_executor.py:700: UserWarning: A worker stopped while some jobs were given to the executor. This can be caused by a too short worker timeout or by a memory leak.\n",
      "  warnings.warn(\n",
      "/home/icb/jonas.flor/miniconda3/envs/neuralBenchmark/lib/python3.8/site-packages/joblib/externals/loky/process_executor.py:700: UserWarning: A worker stopped while some jobs were given to the executor. This can be caused by a too short worker timeout or by a memory leak.\n",
      "  warnings.warn(\n",
      "/home/icb/jonas.flor/miniconda3/envs/neuralBenchmark/lib/python3.8/site-packages/joblib/externals/loky/process_executor.py:700: UserWarning: A worker stopped while some jobs were given to the executor. This can be caused by a too short worker timeout or by a memory leak.\n",
      "  warnings.warn(\n",
      "/home/icb/jonas.flor/miniconda3/envs/neuralBenchmark/lib/python3.8/site-packages/scvelo/tools/dynamical_model.py:721: VisibleDeprecationWarning: Creating an ndarray from ragged nested sequences (which is a list-or-tuple of lists-or-tuples-or ndarrays with different lengths or shapes) is deprecated. If you meant to do this, you must specify 'dtype=object' when creating the ndarray.\n",
      "  np.array([dm.alpha, dm.beta, dm.gamma, dm.pars[:3]]) / dm.m[-1]\n",
      "/home/icb/jonas.flor/miniconda3/envs/neuralBenchmark/lib/python3.8/site-packages/scvelo/tools/dynamical_model.py:724: VisibleDeprecationWarning: Creating an ndarray from ragged nested sequences (which is a list-or-tuple of lists-or-tuples-or ndarrays with different lengths or shapes) is deprecated. If you meant to do this, you must specify 'dtype=object' when creating the ndarray.\n",
      "  np.array([dm.t, dm.tau, dm.t_, dm.pars[4]]) * dm.m[-1]\n"
     ]
    },
    {
     "name": "stdout",
     "output_type": "stream",
     "text": [
      "    finished (1:32:43) --> added \n",
      "    'fit_pars', fitted parameters for splicing dynamics (adata.var)\n",
      "computing velocities\n",
      "    finished (0:00:52) --> added \n",
      "    'velocity', velocity vectors for each individual cell (adata.layers)\n"
     ]
    }
   ],
   "source": [
    "sc.pp.pca(adata_six, n_comps=50)\n",
    "scv.pp.moments(adata_six)\n",
    "scv.tl.recover_dynamics(adata_six, n_jobs=80)\n",
    "scv.tl.velocity(adata_six, mode = 'dynamical')"
   ]
  },
  {
   "cell_type": "code",
   "execution_count": 8,
   "id": "4964ee61",
   "metadata": {},
   "outputs": [
    {
     "data": {
      "text/plain": [
       "AnnData object with n_obs × n_vars = 44664 × 2000\n",
       "    obs: 'time_info', 'state_info', 'initial_size_unspliced', 'initial_size_spliced', 'initial_size', 'n_counts'\n",
       "    uns: 'neighbors'\n",
       "    obsm: 'X_clone', 'X_emb', 'X_pca'\n",
       "    layers: 'ambiguous', 'matrix', 'spliced', 'unspliced', 'Ms', 'Mu', 'fit_t', 'fit_tau', 'fit_tau_', 'velocity', 'velocity_u'\n",
       "    obsp: 'distances', 'connectivities'"
      ]
     },
     "execution_count": 8,
     "metadata": {},
     "output_type": "execute_result"
    }
   ],
   "source": [
    "adata = ad.concat([adata_four, adata_six])\n",
    "sc.pp.neighbors(adata)\n",
    "adata"
   ]
  },
  {
   "cell_type": "code",
   "execution_count": 9,
   "id": "5afd8a60",
   "metadata": {},
   "outputs": [
    {
     "name": "stderr",
     "output_type": "stream",
     "text": [
      "100%|██████████████████████████████████████████████████████████████████████████| 44664/44664 [01:40<00:00, 446.45cell/s]\n",
      "100%|██████████████████████████████████████████████████████████████████████████| 44664/44664 [01:29<00:00, 497.75cell/s]\n"
     ]
    }
   ],
   "source": [
    "vk = VelocityKernel(adata).compute_transition_matrix()"
   ]
  },
  {
   "cell_type": "code",
   "execution_count": null,
   "id": "96535ba4",
   "metadata": {},
   "outputs": [
    {
     "name": "stdout",
     "output_type": "stream",
     "text": [
      "WARNING: Unable to import `petsc4py` or `slepc4py`. Using `method='brandts'`\n",
      "WARNING: For `method='brandts'`, dense matrix is required. Densifying\n"
     ]
    }
   ],
   "source": [
    "g = GPCCA(vk)\n",
    "g.compute_schur(n_components=20)\n",
    "g.plot_spectrum(real_only=True)"
   ]
  },
  {
   "cell_type": "code",
   "execution_count": null,
   "id": "af88d7ef",
   "metadata": {},
   "outputs": [],
   "source": [
    "g.compute_macrostates(n_states=8, cluster_key=\"celltype\")\n",
    "scv.set_figure_params('scvel o', transparent=True, fontsize=20, color_map='viridis')\n",
    "g.plot_macrostates(discrete=True, basis=\"umap\", legend_loc=\"right\", legend_fontweight='normal', legend_fontsize='12', dpi=250)"
   ]
  },
  {
   "cell_type": "code",
   "execution_count": null,
   "id": "2a074761",
   "metadata": {},
   "outputs": [],
   "source": [
    "g.set_terminal_states_from_macrostates(\n",
    "    [\n",
    "        \"Acinar\", \"Ductal_1\", \"Ductal_2\", \"Alpha\", \"Beta\", \"Delta\", \"Epsilon\", \n",
    "    ]\n",
    ")\n",
    "g.compute_absorption_probabilities(solver=\"gmres\", use_petsc=True, tol=1e-12, preconditioner='ilu', time_to_absorption='all')\n",
    "g.plot_absorption_probabilities(same_plot=False, basis=\"umap\", perc=[0, 99], ncols=2)"
   ]
  },
  {
   "cell_type": "code",
   "execution_count": null,
   "id": "591030e5",
   "metadata": {},
   "outputs": [],
   "source": [
    "scv.set_figure_params('scvelo', transparent=True, fontsize=20, color_map='viridis')\n",
    "cr.pl.aggregate_absorption_probabilities(\n",
    "    adata,\n",
    "    mode='heatmap',\n",
    "    lineages=[\"Acinar\", \"Ductal_1\", \"Ductal_2\", \"Alpha\", \"Beta\", \"Delta\", \"Epsilon\", ],\n",
    "    cluster_key='celltype',\n",
    "    clusters=['Acinar', 'Multipotent', 'Tip', 'Ductal', 'Ngn3 High early', 'Ngn3 High late', 'Fev+ Alpha', 'Alpha', 'Fev+ Beta', 'Beta', 'Fev+ Delta', 'Delta', 'Fev+ Epsilon', 'Epsilon'],\n",
    "    figsize=(17, 6),\n",
    "    title=\"\",\n",
    "    save=\"transprobs_pancreas1415_scvelo.png\"\n",
    ")"
   ]
  },
  {
   "cell_type": "code",
   "execution_count": null,
   "id": "16d989e3",
   "metadata": {},
   "outputs": [],
   "source": [
    "adata.uns[\"velocity_graph\"] = vk.transition_matrix\n",
    "\n",
    "scv.set_figure_params('scvelo', transparent=True, fontsize=10, dpi_save=400,color_map='viridis')\n",
    "fig = plt.figure()\n",
    "ax = scv.pl.velocity_embedding_stream(adata, basis=\"umap\", smooth=0.5, title=\"\", legend_loc=\"none\", show=False)\n",
    "legend =ax.legend(bbox_to_anchor=[1.25, 1.5], loc='upper center', ncol=6,frameon=True, prop={'size': 18})"
   ]
  },
  {
   "cell_type": "code",
   "execution_count": null,
   "id": "684f8f93",
   "metadata": {},
   "outputs": [],
   "source": [
    "scv.tl.velocity_confidence(adata)"
   ]
  },
  {
   "cell_type": "code",
   "execution_count": null,
   "id": "75665924",
   "metadata": {},
   "outputs": [],
   "source": [
    "scv.set_figure_params('scvelo', fontsize=20)\n",
    "scv.settings.presenter_view = False\n",
    "scv.pl.scatter(adata, color='velocity_confidence',\n",
    "               perc=[2, 98],\n",
    "               cmap='gnuplot',\n",
    "               vmid=0.75,\n",
    "               rescale_color=[0.5, 1.0],\n",
    "               size=15,\n",
    "               title=\"\",\n",
    "               #save=\"velconf_pancreas1415_scvelo.png\"\n",
    "              )"
   ]
  }
 ],
 "metadata": {
  "kernelspec": {
   "display_name": "Python [conda env:neuralBenchmark]",
   "language": "python",
   "name": "conda-env-neuralBenchmark-py"
  },
  "language_info": {
   "codemirror_mode": {
    "name": "ipython",
    "version": 3
   },
   "file_extension": ".py",
   "mimetype": "text/x-python",
   "name": "python",
   "nbconvert_exporter": "python",
   "pygments_lexer": "ipython3",
   "version": "3.8.15"
  }
 },
 "nbformat": 4,
 "nbformat_minor": 5
}
