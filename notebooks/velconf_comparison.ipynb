{
 "cells": [
  {
   "cell_type": "markdown",
   "id": "3eb4337b",
   "metadata": {},
   "source": [
    "# Velocity Confidence Comparison"
   ]
  },
  {
   "cell_type": "markdown",
   "id": "3628e5a7",
   "metadata": {},
   "source": [
    "### Imports and Settings"
   ]
  },
  {
   "cell_type": "code",
   "execution_count": 6,
   "id": "1fc377aa",
   "metadata": {},
   "outputs": [],
   "source": [
    "import numpy as np\n",
    "import scanpy as sc\n",
    "from tueplots import bundles\n",
    "from tueplots import axes\n",
    "import numpy as np\n",
    "import matplotlib.pyplot as plt\n",
    "\n",
    "plt.rcParams.update(**bundles.neurips2022(usetex=False, nrows=2), **axes.lines(base_width=0.5), **{\"figure.dpi\": 150})\n",
    "\n",
    "def adjacent_values(vals, q1, q3):\n",
    "    upper_adjacent_value = q3 + (q3 - q1) * 1.5\n",
    "    upper_adjacent_value = np.clip(upper_adjacent_value, q3, vals[-1])\n",
    "\n",
    "    lower_adjacent_value = q1 - (q3 - q1) * 1.5\n",
    "    lower_adjacent_value = np.clip(lower_adjacent_value, vals[0], q1)\n",
    "    return lower_adjacent_value, upper_adjacent_value\n",
    "\n",
    "\n",
    "def set_axis_style(ax, labels):\n",
    "    ax.xaxis.set_tick_params(direction='out')\n",
    "    ax.xaxis.set_ticks_position('bottom')\n",
    "    ax.set_xticks(np.arange(1, len(labels) + 1), labels=labels)\n",
    "    ax.set_xlim(0.25, len(labels) + 0.75)"
   ]
  },
  {
   "cell_type": "markdown",
   "id": "164eedb1",
   "metadata": {},
   "source": [
    "### Load Velocity Confidence"
   ]
  },
  {
   "cell_type": "code",
   "execution_count": 2,
   "id": "ca45e1ea",
   "metadata": {
    "scrolled": true
   },
   "outputs": [
    {
     "name": "stdout",
     "output_type": "stream",
     "text": [
      "0.9166477676459052\n",
      "0.937794318608858\n",
      "0.9594821326056618\n",
      "0.7674487183635156\n",
      "0.9857016774742573\n"
     ]
    }
   ],
   "source": [
    "velocity_confidence_pmm = sc.read(\"adata_results/pancreas1415_not.h5ad\").obs[\"velocity_confidence\"].copy()\n",
    "velocity_confidence_pmm_gr = sc.read(\"adata_results/pancreas1415_not_4gr.h5ad\").obs[\"velocity_confidence\"].copy()\n",
    "velocity_confidence_upmm = sc.read(\"adata_results/pancreas1415_bnot_tau0.85.h5ad\").obs[\"velocity_confidence\"].copy()\n",
    "velocity_confidence_scvelo = sc.read(\"adata_results/pancreas1415_scvelo.h5ad\").obs[\"velocity_confidence\"].copy()\n",
    "velocity_confidence_trajectorynet = sc.read(\"adata_results/pancreas1415_trajectorynet.h5ad\").obs[\"velocity_confidence\"].copy()\n",
    "# print mean velocity confidence\n",
    "print(np.mean(velocity_confidence_pmm))\n",
    "print(np.mean(velocity_confidence_pmm_gr))\n",
    "print(np.mean(velocity_confidence_upmm))\n",
    "print(np.mean(velocity_confidence_scvelo))\n",
    "print(np.mean(velocity_confidence_trajectorynet))"
   ]
  },
  {
   "cell_type": "code",
   "execution_count": 3,
   "id": "eca35180",
   "metadata": {},
   "outputs": [],
   "source": [
    "# drop nans\n",
    "velocity_confidence_trajectorynet = velocity_confidence_trajectorynet.dropna()"
   ]
  },
  {
   "cell_type": "markdown",
   "id": "e27125dc",
   "metadata": {},
   "source": [
    "## Violin plot"
   ]
  },
  {
   "cell_type": "code",
   "execution_count": 4,
   "id": "13a8c201",
   "metadata": {},
   "outputs": [],
   "source": [
    "data = [velocity_confidence_trajectorynet,\n",
    "        velocity_confidence_scvelo,\n",
    "        velocity_confidence_pmm,\n",
    "        velocity_confidence_upmm,\n",
    "        velocity_confidence_pmm_gr]"
   ]
  },
  {
   "cell_type": "code",
   "execution_count": 7,
   "id": "299975ab",
   "metadata": {},
   "outputs": [
    {
     "data": {
      "image/png": "[encoded data removed]",
      "text/plain": [
       "<Figure size 750x450 with 1 Axes>"
      ]
     },
     "metadata": {
      "needs_background": "light"
     },
     "output_type": "display_data"
    }
   ],
   "source": [
    "plt.rcParams[\"figure.figsize\"] = (5, 3)\n",
    "fig = plt.figure()\n",
    "ax = fig.add_subplot(111)\n",
    "parts = ax.violinplot(data, vert=True, showmeans=False, showextrema=False, showmedians=False)\n",
    "# color different violins\n",
    "for inedx, pc in enumerate(parts['bodies']):\n",
    "    if index == 0:\n",
    "        pc.set_facecolor('tab:gray')\n",
    "    elif index == 1:\n",
    "        pc.set_facecolor('tab:blue')\n",
    "    elif index == 2:\n",
    "        pc.set_facecolor('tab:olive')\n",
    "    elif index == 3:\n",
    "        pc.set_facecolor('tab:olive')\n",
    "    elif index == 4:\n",
    "        pc.set_facecolor('tab:olive')\n",
    "    pc.set_edgecolor('black')\n",
    "    pc.set_alpha(1)\n",
    "quartile1, medians, quartile3 = [], [], []\n",
    "for d in data:\n",
    "    q1, m, q3 = np.percentile(d, [25, 50, 75])\n",
    "    quartile1.append(q1)\n",
    "    medians.append(m)\n",
    "    quartile3.append(q3)\n",
    "quartile1, medians, quartile3 = np.array(quartile1), np.array(medians), np.array(quartile3)\n",
    "whiskers = np.array([\n",
    "    adjacent_values(sorted_array, q1, q3)\n",
    "    for sorted_array, q1, q3 in zip(data, quartile1, quartile3)])\n",
    "whiskers_min, whiskers_max = whiskers[:, 0], whiskers[:, 1]\n",
    "\n",
    "inds = np.arange(1, len(medians) + 1)\n",
    "ax.scatter(inds, medians, marker='o', color='white', s=30, zorder=1)\n",
    "ax.vlines(inds, quartile1, quartile3, color='k', linestyle='-', lw=2)\n",
    "ax.vlines(inds, whiskers_min, whiskers_max, color='k', linestyle='-', lw=1)\n",
    "\n",
    "# set style for the axes\n",
    "labels = [\"TN\", \"scVelo\", 'PMM', 'UPMM', 'PMM+GR']\n",
    "set_axis_style(ax, labels)\n",
    "#plt.savefig(\"velconsistency.png\", dpi=400, bbox_inches='tight')"
   ]
  },
  {
   "cell_type": "code",
   "execution_count": null,
   "id": "0feab549",
   "metadata": {},
   "outputs": [],
   "source": []
  }
 ],
 "metadata": {
  "kernelspec": {
   "display_name": "Python 3 (ipykernel)",
   "language": "python",
   "name": "python3"
  },
  "language_info": {
   "codemirror_mode": {
    "name": "ipython",
    "version": 3
   },
   "file_extension": ".py",
   "mimetype": "text/x-python",
   "name": "python",
   "nbconvert_exporter": "python",
   "pygments_lexer": "ipython3",
   "version": "3.9.13"
  }
 },
 "nbformat": 4,
 "nbformat_minor": 5
}
